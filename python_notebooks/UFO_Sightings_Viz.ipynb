{
 "cells": [
  {
   "cell_type": "markdown",
   "id": "b586dbf1",
   "metadata": {},
   "source": [
    "##### Importing required packages"
   ]
  },
  {
   "cell_type": "code",
   "execution_count": 1,
   "id": "99cb3369",
   "metadata": {},
   "outputs": [],
   "source": [
    "import pandas as pd\n",
    "import numpy as np\n",
    "import matplotlib\n",
    "import matplotlib.pyplot as plt\n",
    "import datetime\n",
    "import altair as alt"
   ]
  },
  {
   "cell_type": "markdown",
   "id": "56b51b45",
   "metadata": {},
   "source": [
    "##### Reading in the data with only the required columns"
   ]
  },
  {
   "cell_type": "code",
   "execution_count": 2,
   "id": "875d9233",
   "metadata": {},
   "outputs": [
    {
     "data": {
      "text/html": [
       "<div>\n",
       "<style scoped>\n",
       "    .dataframe tbody tr th:only-of-type {\n",
       "        vertical-align: middle;\n",
       "    }\n",
       "\n",
       "    .dataframe tbody tr th {\n",
       "        vertical-align: top;\n",
       "    }\n",
       "\n",
       "    .dataframe thead th {\n",
       "        text-align: right;\n",
       "    }\n",
       "</style>\n",
       "<table border=\"1\" class=\"dataframe\">\n",
       "  <thead>\n",
       "    <tr style=\"text-align: right;\">\n",
       "      <th></th>\n",
       "      <th>date</th>\n",
       "      <th>state</th>\n",
       "      <th>country</th>\n",
       "      <th>duration_seconds</th>\n",
       "    </tr>\n",
       "  </thead>\n",
       "  <tbody>\n",
       "    <tr>\n",
       "      <th>0</th>\n",
       "      <td>1949-10-10 20:30:00</td>\n",
       "      <td>tx</td>\n",
       "      <td>us</td>\n",
       "      <td>2700.0</td>\n",
       "    </tr>\n",
       "    <tr>\n",
       "      <th>1</th>\n",
       "      <td>1949-10-10 21:00:00</td>\n",
       "      <td>tx</td>\n",
       "      <td>NaN</td>\n",
       "      <td>7200.0</td>\n",
       "    </tr>\n",
       "    <tr>\n",
       "      <th>2</th>\n",
       "      <td>1955-10-10 17:00:00</td>\n",
       "      <td>NaN</td>\n",
       "      <td>gb</td>\n",
       "      <td>20.0</td>\n",
       "    </tr>\n",
       "  </tbody>\n",
       "</table>\n",
       "</div>"
      ],
      "text/plain": [
       "                 date state country  duration_seconds\n",
       "0 1949-10-10 20:30:00    tx      us            2700.0\n",
       "1 1949-10-10 21:00:00    tx     NaN            7200.0\n",
       "2 1955-10-10 17:00:00   NaN      gb              20.0"
      ]
     },
     "execution_count": 2,
     "metadata": {},
     "output_type": "execute_result"
    }
   ],
   "source": [
    "\n",
    "URL = 'https://raw.githubusercontent.com/UIUC-iSchool-DataViz/is445_bcubcg_fall2022/main/data/ufo-scrubbed-geocoded-time-standardized-00.csv'\n",
    "ufo_sightings = ufos = pd.read_csv(URL, names = [\"date\", \"city\", \"state\", \"country\",\n",
    "                                                                   \"shape\", \"duration_seconds\", \"duration\",\n",
    "                                                                   \"comment\", \"report_date\", \n",
    "                                                                   \"latitude\", \"longitude\"],\n",
    "                                   usecols = [\"date\", \"state\", \"country\", \"duration_seconds\"],\n",
    "                                   parse_dates = [\"date\"])\n",
    "ufo_sightings.head(3)"
   ]
  },
  {
   "cell_type": "code",
   "execution_count": 3,
   "id": "9bba4507",
   "metadata": {},
   "outputs": [
    {
     "data": {
      "text/plain": [
       "array(['us', nan, 'gb', 'ca', 'au', 'de'], dtype=object)"
      ]
     },
     "execution_count": 3,
     "metadata": {},
     "output_type": "execute_result"
    }
   ],
   "source": [
    "ufo_sightings.country.unique()"
   ]
  },
  {
   "cell_type": "markdown",
   "id": "865a2cb4",
   "metadata": {},
   "source": [
    "##### Subsetting UFO sigtings data for United States"
   ]
  },
  {
   "cell_type": "code",
   "execution_count": 4,
   "id": "74c410f2",
   "metadata": {},
   "outputs": [
    {
     "data": {
      "text/plain": [
       "(65114, 4)"
      ]
     },
     "execution_count": 4,
     "metadata": {},
     "output_type": "execute_result"
    }
   ],
   "source": [
    "ufo_usa_sightings = ufo_sightings[ufo_sightings.country == 'us']\n",
    "ufo_usa_sightings.shape"
   ]
  },
  {
   "cell_type": "markdown",
   "id": "871fabd5",
   "metadata": {},
   "source": [
    "### Quality check and Cleanup \n",
    "    of the subsetted data"
   ]
  },
  {
   "cell_type": "code",
   "execution_count": 5,
   "id": "4183aad2",
   "metadata": {},
   "outputs": [
    {
     "data": {
      "text/plain": [
       "array(['tx', 'hi', 'tn', 'ct', 'al', 'fl', 'ca', 'nc', 'ny', 'ky', 'mi',\n",
       "       'ma', 'ks', 'sc', 'wa', 'co', 'nh', 'wi', 'me', 'ga', 'pa', 'il',\n",
       "       'ar', 'mo', 'oh', 'in', 'az', 'mn', 'nv', 'ne', 'or', 'ia', 'va',\n",
       "       'id', 'nm', 'nj', 'wv', 'ok', 'ri', 'vt', 'la', 'pr', 'ak', 'ms',\n",
       "       'ut', 'md', 'mt', 'wy', 'sd', 'de', 'nd', 'dc'], dtype=object)"
      ]
     },
     "execution_count": 5,
     "metadata": {},
     "output_type": "execute_result"
    }
   ],
   "source": [
    "ufo_usa_sightings.state.unique()"
   ]
  },
  {
   "cell_type": "code",
   "execution_count": 6,
   "id": "555bcbda",
   "metadata": {},
   "outputs": [
    {
     "name": "stderr",
     "output_type": "stream",
     "text": [
      "/Users/harshbaberwal/opt/anaconda3/envs/DataViz/lib/python3.7/site-packages/pandas/core/indexing.py:1667: SettingWithCopyWarning: \n",
      "A value is trying to be set on a copy of a slice from a DataFrame.\n",
      "Try using .loc[row_indexer,col_indexer] = value instead\n",
      "\n",
      "See the caveats in the documentation: https://pandas.pydata.org/pandas-docs/stable/user_guide/indexing.html#returning-a-view-versus-a-copy\n",
      "  self.obj[key] = value\n",
      "/Users/harshbaberwal/opt/anaconda3/envs/DataViz/lib/python3.7/site-packages/pandas/core/frame.py:4913: SettingWithCopyWarning: \n",
      "A value is trying to be set on a copy of a slice from a DataFrame\n",
      "\n",
      "See the caveats in the documentation: https://pandas.pydata.org/pandas-docs/stable/user_guide/indexing.html#returning-a-view-versus-a-copy\n",
      "  errors=errors,\n"
     ]
    },
    {
     "data": {
      "text/html": [
       "<div>\n",
       "<style scoped>\n",
       "    .dataframe tbody tr th:only-of-type {\n",
       "        vertical-align: middle;\n",
       "    }\n",
       "\n",
       "    .dataframe tbody tr th {\n",
       "        vertical-align: top;\n",
       "    }\n",
       "\n",
       "    .dataframe thead th {\n",
       "        text-align: right;\n",
       "    }\n",
       "</style>\n",
       "<table border=\"1\" class=\"dataframe\">\n",
       "  <thead>\n",
       "    <tr style=\"text-align: right;\">\n",
       "      <th></th>\n",
       "      <th>date</th>\n",
       "      <th>country</th>\n",
       "      <th>duration_seconds</th>\n",
       "      <th>state_code</th>\n",
       "    </tr>\n",
       "  </thead>\n",
       "  <tbody>\n",
       "    <tr>\n",
       "      <th>0</th>\n",
       "      <td>1949-10-10 20:30:00</td>\n",
       "      <td>us</td>\n",
       "      <td>2700.0</td>\n",
       "      <td>TX</td>\n",
       "    </tr>\n",
       "    <tr>\n",
       "      <th>3</th>\n",
       "      <td>1956-10-10 21:00:00</td>\n",
       "      <td>us</td>\n",
       "      <td>20.0</td>\n",
       "      <td>TX</td>\n",
       "    </tr>\n",
       "    <tr>\n",
       "      <th>4</th>\n",
       "      <td>1960-10-10 20:00:00</td>\n",
       "      <td>us</td>\n",
       "      <td>900.0</td>\n",
       "      <td>HI</td>\n",
       "    </tr>\n",
       "  </tbody>\n",
       "</table>\n",
       "</div>"
      ],
      "text/plain": [
       "                 date country  duration_seconds state_code\n",
       "0 1949-10-10 20:30:00      us            2700.0         TX\n",
       "3 1956-10-10 21:00:00      us              20.0         TX\n",
       "4 1960-10-10 20:00:00      us             900.0         HI"
      ]
     },
     "execution_count": 6,
     "metadata": {},
     "output_type": "execute_result"
    }
   ],
   "source": [
    "ufo_usa_sightings.loc[:,'state_code'] = ufo_usa_sightings.loc[:,'state'].str.upper()\n",
    "ufo_usa_sightings.drop(columns = 'state', inplace = True)\n",
    "ufo_usa_sightings.head(3)"
   ]
  },
  {
   "cell_type": "markdown",
   "id": "7c04929b",
   "metadata": {},
   "source": [
    "#####  Removing outlier data based on ufo sightings duration in seconds"
   ]
  },
  {
   "cell_type": "code",
   "execution_count": 7,
   "id": "237888a8",
   "metadata": {},
   "outputs": [
    {
     "data": {
      "text/plain": [
       "2.0"
      ]
     },
     "execution_count": 7,
     "metadata": {},
     "output_type": "execute_result"
    }
   ],
   "source": [
    " ufo_usa_sightings.duration_seconds.quantile(0.98)/3600"
   ]
  },
  {
   "cell_type": "code",
   "execution_count": 8,
   "id": "23fa5390",
   "metadata": {},
   "outputs": [],
   "source": [
    "ufo_usa_sightings = ufo_usa_sightings[ufo_usa_sightings.duration_seconds/3600 <=2]\n",
    "ufo_usa_sightings = ufo_usa_sightings[ufo_usa_sightings.date.dt.year >= 1950]"
   ]
  },
  {
   "cell_type": "code",
   "execution_count": 9,
   "id": "1d10a9a5",
   "metadata": {},
   "outputs": [
    {
     "data": {
      "text/html": [
       "<div>\n",
       "<style scoped>\n",
       "    .dataframe tbody tr th:only-of-type {\n",
       "        vertical-align: middle;\n",
       "    }\n",
       "\n",
       "    .dataframe tbody tr th {\n",
       "        vertical-align: top;\n",
       "    }\n",
       "\n",
       "    .dataframe thead th {\n",
       "        text-align: right;\n",
       "    }\n",
       "</style>\n",
       "<table border=\"1\" class=\"dataframe\">\n",
       "  <thead>\n",
       "    <tr style=\"text-align: right;\">\n",
       "      <th></th>\n",
       "      <th>date</th>\n",
       "      <th>country</th>\n",
       "      <th>duration_seconds</th>\n",
       "      <th>state_code</th>\n",
       "      <th>decade</th>\n",
       "    </tr>\n",
       "  </thead>\n",
       "  <tbody>\n",
       "    <tr>\n",
       "      <th>3</th>\n",
       "      <td>1956-10-10 21:00:00</td>\n",
       "      <td>us</td>\n",
       "      <td>20.0</td>\n",
       "      <td>TX</td>\n",
       "      <td>1950s</td>\n",
       "    </tr>\n",
       "    <tr>\n",
       "      <th>4</th>\n",
       "      <td>1960-10-10 20:00:00</td>\n",
       "      <td>us</td>\n",
       "      <td>900.0</td>\n",
       "      <td>HI</td>\n",
       "      <td>1960s</td>\n",
       "    </tr>\n",
       "    <tr>\n",
       "      <th>5</th>\n",
       "      <td>1961-10-10 19:00:00</td>\n",
       "      <td>us</td>\n",
       "      <td>300.0</td>\n",
       "      <td>TN</td>\n",
       "      <td>1960s</td>\n",
       "    </tr>\n",
       "  </tbody>\n",
       "</table>\n",
       "</div>"
      ],
      "text/plain": [
       "                 date country  duration_seconds state_code decade\n",
       "3 1956-10-10 21:00:00      us              20.0         TX  1950s\n",
       "4 1960-10-10 20:00:00      us             900.0         HI  1960s\n",
       "5 1961-10-10 19:00:00      us             300.0         TN  1960s"
      ]
     },
     "execution_count": 9,
     "metadata": {},
     "output_type": "execute_result"
    }
   ],
   "source": [
    "ufo_usa_sightings['decade'] = (ufo_usa_sightings['date'].dt.year // 10)*10\n",
    "ufo_usa_sightings['decade'] = ufo_usa_sightings['decade'].apply(str) + 's'\n",
    "ufo_usa_sightings.head(3)"
   ]
  },
  {
   "cell_type": "markdown",
   "id": "e67721c8",
   "metadata": {},
   "source": [
    "##### Summary of the duration the UFO was sighted for"
   ]
  },
  {
   "cell_type": "code",
   "execution_count": 10,
   "id": "e08c3549",
   "metadata": {
    "scrolled": true
   },
   "outputs": [
    {
     "data": {
      "text/plain": [
       "count    63819.000000\n",
       "mean       602.257520\n",
       "std       1162.713139\n",
       "min          0.010000\n",
       "25%         30.000000\n",
       "50%        180.000000\n",
       "75%        600.000000\n",
       "max       7200.000000\n",
       "Name: duration_seconds, dtype: float64"
      ]
     },
     "execution_count": 10,
     "metadata": {},
     "output_type": "execute_result"
    }
   ],
   "source": [
    "ufo_usa_sightings['duration_seconds'].describe()"
   ]
  },
  {
   "cell_type": "markdown",
   "id": "894facd0",
   "metadata": {},
   "source": [
    "*There has been around 64,000 UFO sightings since the first one. On an avergae, a UFO sighting lasts for about 10 minutes*"
   ]
  },
  {
   "cell_type": "code",
   "execution_count": null,
   "id": "d8cd7fd8",
   "metadata": {},
   "outputs": [],
   "source": []
  },
  {
   "cell_type": "markdown",
   "id": "8ca43017",
   "metadata": {},
   "source": [
    "### Data Prep for the Altair Plot"
   ]
  },
  {
   "cell_type": "code",
   "execution_count": 11,
   "id": "6fae4c76",
   "metadata": {},
   "outputs": [
    {
     "data": {
      "text/html": [
       "<div>\n",
       "<style scoped>\n",
       "    .dataframe tbody tr th:only-of-type {\n",
       "        vertical-align: middle;\n",
       "    }\n",
       "\n",
       "    .dataframe tbody tr th {\n",
       "        vertical-align: top;\n",
       "    }\n",
       "\n",
       "    .dataframe thead th {\n",
       "        text-align: right;\n",
       "    }\n",
       "</style>\n",
       "<table border=\"1\" class=\"dataframe\">\n",
       "  <thead>\n",
       "    <tr style=\"text-align: right;\">\n",
       "      <th></th>\n",
       "      <th>date</th>\n",
       "      <th>country</th>\n",
       "      <th>duration_seconds</th>\n",
       "      <th>state_code</th>\n",
       "      <th>decade</th>\n",
       "      <th>date_new</th>\n",
       "    </tr>\n",
       "  </thead>\n",
       "  <tbody>\n",
       "    <tr>\n",
       "      <th>3</th>\n",
       "      <td>1956-10-10 21:00:00</td>\n",
       "      <td>us</td>\n",
       "      <td>20.0</td>\n",
       "      <td>TX</td>\n",
       "      <td>1950s</td>\n",
       "      <td>1956-10-01</td>\n",
       "    </tr>\n",
       "    <tr>\n",
       "      <th>4</th>\n",
       "      <td>1960-10-10 20:00:00</td>\n",
       "      <td>us</td>\n",
       "      <td>900.0</td>\n",
       "      <td>HI</td>\n",
       "      <td>1960s</td>\n",
       "      <td>1960-10-01</td>\n",
       "    </tr>\n",
       "    <tr>\n",
       "      <th>5</th>\n",
       "      <td>1961-10-10 19:00:00</td>\n",
       "      <td>us</td>\n",
       "      <td>300.0</td>\n",
       "      <td>TN</td>\n",
       "      <td>1960s</td>\n",
       "      <td>1961-10-01</td>\n",
       "    </tr>\n",
       "  </tbody>\n",
       "</table>\n",
       "</div>"
      ],
      "text/plain": [
       "                 date country  duration_seconds state_code decade   date_new\n",
       "3 1956-10-10 21:00:00      us              20.0         TX  1950s 1956-10-01\n",
       "4 1960-10-10 20:00:00      us             900.0         HI  1960s 1960-10-01\n",
       "5 1961-10-10 19:00:00      us             300.0         TN  1960s 1961-10-01"
      ]
     },
     "execution_count": 11,
     "metadata": {},
     "output_type": "execute_result"
    }
   ],
   "source": [
    "ufo_usa_sightings['date_new'] = ufo_usa_sightings['date'].apply(lambda x: datetime.datetime(year = x.year, \n",
    "                                                                                            month = x.month,\n",
    "                                                                                            day = 1))\n",
    "ufo_usa_sightings.head(3)"
   ]
  },
  {
   "cell_type": "code",
   "execution_count": 12,
   "id": "6d01f2e1",
   "metadata": {},
   "outputs": [],
   "source": [
    "ufo_usa_sightings_count = ufo_usa_sightings.groupby(['decade','date_new'], as_index = False)['date'].count()\n",
    "ufo_usa_sightings_count.rename(columns={'date':'n_sightings'}, inplace=True)"
   ]
  },
  {
   "cell_type": "code",
   "execution_count": 13,
   "id": "4b1bfdca",
   "metadata": {},
   "outputs": [
    {
     "data": {
      "text/html": [
       "<div>\n",
       "<style scoped>\n",
       "    .dataframe tbody tr th:only-of-type {\n",
       "        vertical-align: middle;\n",
       "    }\n",
       "\n",
       "    .dataframe tbody tr th {\n",
       "        vertical-align: top;\n",
       "    }\n",
       "\n",
       "    .dataframe thead th {\n",
       "        text-align: right;\n",
       "    }\n",
       "</style>\n",
       "<table border=\"1\" class=\"dataframe\">\n",
       "  <thead>\n",
       "    <tr style=\"text-align: right;\">\n",
       "      <th></th>\n",
       "      <th>decade</th>\n",
       "      <th>date_new</th>\n",
       "      <th>n_sightings</th>\n",
       "    </tr>\n",
       "  </thead>\n",
       "  <tbody>\n",
       "    <tr>\n",
       "      <th>0</th>\n",
       "      <td>1950s</td>\n",
       "      <td>1950-01-01</td>\n",
       "      <td>1</td>\n",
       "    </tr>\n",
       "    <tr>\n",
       "      <th>1</th>\n",
       "      <td>1950s</td>\n",
       "      <td>1950-06-01</td>\n",
       "      <td>12</td>\n",
       "    </tr>\n",
       "    <tr>\n",
       "      <th>2</th>\n",
       "      <td>1950s</td>\n",
       "      <td>1950-07-01</td>\n",
       "      <td>4</td>\n",
       "    </tr>\n",
       "    <tr>\n",
       "      <th>3</th>\n",
       "      <td>1950s</td>\n",
       "      <td>1950-08-01</td>\n",
       "      <td>2</td>\n",
       "    </tr>\n",
       "    <tr>\n",
       "      <th>4</th>\n",
       "      <td>1950s</td>\n",
       "      <td>1950-10-01</td>\n",
       "      <td>1</td>\n",
       "    </tr>\n",
       "    <tr>\n",
       "      <th>...</th>\n",
       "      <td>...</td>\n",
       "      <td>...</td>\n",
       "      <td>...</td>\n",
       "    </tr>\n",
       "    <tr>\n",
       "      <th>718</th>\n",
       "      <td>2010s</td>\n",
       "      <td>2014-01-01</td>\n",
       "      <td>562</td>\n",
       "    </tr>\n",
       "    <tr>\n",
       "      <th>719</th>\n",
       "      <td>2010s</td>\n",
       "      <td>2014-02-01</td>\n",
       "      <td>425</td>\n",
       "    </tr>\n",
       "    <tr>\n",
       "      <th>720</th>\n",
       "      <td>2010s</td>\n",
       "      <td>2014-03-01</td>\n",
       "      <td>372</td>\n",
       "    </tr>\n",
       "    <tr>\n",
       "      <th>721</th>\n",
       "      <td>2010s</td>\n",
       "      <td>2014-04-01</td>\n",
       "      <td>476</td>\n",
       "    </tr>\n",
       "    <tr>\n",
       "      <th>722</th>\n",
       "      <td>2010s</td>\n",
       "      <td>2014-05-01</td>\n",
       "      <td>109</td>\n",
       "    </tr>\n",
       "  </tbody>\n",
       "</table>\n",
       "<p>723 rows × 3 columns</p>\n",
       "</div>"
      ],
      "text/plain": [
       "    decade   date_new  n_sightings\n",
       "0    1950s 1950-01-01            1\n",
       "1    1950s 1950-06-01           12\n",
       "2    1950s 1950-07-01            4\n",
       "3    1950s 1950-08-01            2\n",
       "4    1950s 1950-10-01            1\n",
       "..     ...        ...          ...\n",
       "718  2010s 2014-01-01          562\n",
       "719  2010s 2014-02-01          425\n",
       "720  2010s 2014-03-01          372\n",
       "721  2010s 2014-04-01          476\n",
       "722  2010s 2014-05-01          109\n",
       "\n",
       "[723 rows x 3 columns]"
      ]
     },
     "execution_count": 13,
     "metadata": {},
     "output_type": "execute_result"
    }
   ],
   "source": [
    "ufo_usa_sightings_count"
   ]
  },
  {
   "cell_type": "markdown",
   "id": "9bb57c9c",
   "metadata": {},
   "source": [
    "### Altair Plot"
   ]
  },
  {
   "cell_type": "code",
   "execution_count": 14,
   "id": "d0835ffa",
   "metadata": {},
   "outputs": [],
   "source": [
    "click = alt.selection_multi(encodings=['color'])\n",
    "\n",
    "bar = alt.Chart(ufo_usa_sightings_count).mark_bar().encode(\n",
    "    alt.X(\"decade\", axis=alt.Axis(title='Decade')),\n",
    "    alt.Y(\"sum(n_sightings):Q\", axis=alt.Axis(title='# Sightings')),\n",
    "    color=alt.condition(click, 'decade', alt.value('lightgray'))\n",
    ").properties(\n",
    "    width=300\n",
    ").add_selection(\n",
    "    click\n",
    ")\n",
    "\n",
    "\n",
    "\n",
    "lines = alt.Chart(ufo_usa_sightings_count).mark_line().encode(\n",
    "    alt.X(\"date_new:T\",axis=alt.Axis(title='Date')),\n",
    "    alt.Y(\"sum(n_sightings):Q\", axis=alt.Axis(title='# Sightings')),\n",
    "    alt.Color(\"count()\")\n",
    ").properties(\n",
    "    width=300\n",
    ").transform_filter(\n",
    "    click\n",
    ")\n",
    "\n"
   ]
  },
  {
   "cell_type": "code",
   "execution_count": 15,
   "id": "d5603330",
   "metadata": {},
   "outputs": [],
   "source": [
    "final_vis = bar.properties(height = 250, width=300) | lines.properties(height = 250, width=300)"
   ]
  },
  {
   "cell_type": "code",
   "execution_count": 16,
   "id": "528f118c",
   "metadata": {
    "scrolled": true
   },
   "outputs": [
    {
     "data": {
      "text/html": [
       "\n",
       "<div id=\"altair-viz-a75dcf8947a342f78b6d31560eff4a42\"></div>\n",
       "<script type=\"text/javascript\">\n",
       "  var VEGA_DEBUG = (typeof VEGA_DEBUG == \"undefined\") ? {} : VEGA_DEBUG;\n",
       "  (function(spec, embedOpt){\n",
       "    let outputDiv = document.currentScript.previousElementSibling;\n",
       "    if (outputDiv.id !== \"altair-viz-a75dcf8947a342f78b6d31560eff4a42\") {\n",
       "      outputDiv = document.getElementById(\"altair-viz-a75dcf8947a342f78b6d31560eff4a42\");\n",
       "    }\n",
       "    const paths = {\n",
       "      \"vega\": \"https://cdn.jsdelivr.net/npm//vega@5?noext\",\n",
       "      \"vega-lib\": \"https://cdn.jsdelivr.net/npm//vega-lib?noext\",\n",
       "      \"vega-lite\": \"https://cdn.jsdelivr.net/npm//vega-lite@4.17.0?noext\",\n",
       "      \"vega-embed\": \"https://cdn.jsdelivr.net/npm//vega-embed@6?noext\",\n",
       "    };\n",
       "\n",
       "    function maybeLoadScript(lib, version) {\n",
       "      var key = `${lib.replace(\"-\", \"\")}_version`;\n",
       "      return (VEGA_DEBUG[key] == version) ?\n",
       "        Promise.resolve(paths[lib]) :\n",
       "        new Promise(function(resolve, reject) {\n",
       "          var s = document.createElement('script');\n",
       "          document.getElementsByTagName(\"head\")[0].appendChild(s);\n",
       "          s.async = true;\n",
       "          s.onload = () => {\n",
       "            VEGA_DEBUG[key] = version;\n",
       "            return resolve(paths[lib]);\n",
       "          };\n",
       "          s.onerror = () => reject(`Error loading script: ${paths[lib]}`);\n",
       "          s.src = paths[lib];\n",
       "        });\n",
       "    }\n",
       "\n",
       "    function showError(err) {\n",
       "      outputDiv.innerHTML = `<div class=\"error\" style=\"color:red;\">${err}</div>`;\n",
       "      throw err;\n",
       "    }\n",
       "\n",
       "    function displayChart(vegaEmbed) {\n",
       "      vegaEmbed(outputDiv, spec, embedOpt)\n",
       "        .catch(err => showError(`Javascript Error: ${err.message}<br>This usually means there's a typo in your chart specification. See the javascript console for the full traceback.`));\n",
       "    }\n",
       "\n",
       "    if(typeof define === \"function\" && define.amd) {\n",
       "      requirejs.config({paths});\n",
       "      require([\"vega-embed\"], displayChart, err => showError(`Error loading script: ${err.message}`));\n",
       "    } else {\n",
       "      maybeLoadScript(\"vega\", \"5\")\n",
       "        .then(() => maybeLoadScript(\"vega-lite\", \"4.17.0\"))\n",
       "        .then(() => maybeLoadScript(\"vega-embed\", \"6\"))\n",
       "        .catch(showError)\n",
       "        .then(() => displayChart(vegaEmbed));\n",
       "    }\n",
       "  })({\"config\": {\"view\": {\"continuousWidth\": 400, \"continuousHeight\": 300}}, \"hconcat\": [{\"mark\": \"bar\", \"encoding\": {\"color\": {\"condition\": {\"field\": \"decade\", \"type\": \"nominal\", \"selection\": \"selector001\"}, \"value\": \"lightgray\"}, \"x\": {\"axis\": {\"title\": \"Decade\"}, \"field\": \"decade\", \"type\": \"nominal\"}, \"y\": {\"aggregate\": \"sum\", \"axis\": {\"title\": \"# Sightings\"}, \"field\": \"n_sightings\", \"type\": \"quantitative\"}}, \"height\": 250, \"selection\": {\"selector001\": {\"type\": \"multi\", \"encodings\": [\"color\"]}}, \"width\": 300}, {\"mark\": \"line\", \"encoding\": {\"color\": {\"aggregate\": \"count\", \"type\": \"quantitative\"}, \"x\": {\"axis\": {\"title\": \"Date\"}, \"field\": \"date_new\", \"type\": \"temporal\"}, \"y\": {\"aggregate\": \"sum\", \"axis\": {\"title\": \"# Sightings\"}, \"field\": \"n_sightings\", \"type\": \"quantitative\"}}, \"height\": 250, \"transform\": [{\"filter\": {\"selection\": \"selector001\"}}], \"width\": 300}], \"data\": {\"name\": \"data-85d90cc69deec989680c70ba4205f60f\"}, \"$schema\": \"https://vega.github.io/schema/vega-lite/v4.17.0.json\", \"datasets\": {\"data-85d90cc69deec989680c70ba4205f60f\": [{\"decade\": \"1950s\", \"date_new\": \"1950-01-01T00:00:00\", \"n_sightings\": 1}, {\"decade\": \"1950s\", \"date_new\": \"1950-06-01T00:00:00\", \"n_sightings\": 12}, {\"decade\": \"1950s\", \"date_new\": \"1950-07-01T00:00:00\", \"n_sightings\": 4}, {\"decade\": \"1950s\", \"date_new\": \"1950-08-01T00:00:00\", \"n_sightings\": 2}, {\"decade\": \"1950s\", \"date_new\": \"1950-10-01T00:00:00\", \"n_sightings\": 1}, {\"decade\": \"1950s\", \"date_new\": \"1950-12-01T00:00:00\", \"n_sightings\": 1}, {\"decade\": \"1950s\", \"date_new\": \"1951-01-01T00:00:00\", \"n_sightings\": 1}, {\"decade\": \"1950s\", \"date_new\": \"1951-02-01T00:00:00\", \"n_sightings\": 2}, {\"decade\": \"1950s\", \"date_new\": \"1951-06-01T00:00:00\", \"n_sightings\": 4}, {\"decade\": \"1950s\", \"date_new\": \"1951-07-01T00:00:00\", \"n_sightings\": 4}, {\"decade\": \"1950s\", \"date_new\": \"1951-08-01T00:00:00\", \"n_sightings\": 1}, {\"decade\": \"1950s\", \"date_new\": \"1952-02-01T00:00:00\", \"n_sightings\": 1}, {\"decade\": \"1950s\", \"date_new\": \"1952-04-01T00:00:00\", \"n_sightings\": 2}, {\"decade\": \"1950s\", \"date_new\": \"1952-06-01T00:00:00\", \"n_sightings\": 9}, {\"decade\": \"1950s\", \"date_new\": \"1952-07-01T00:00:00\", \"n_sightings\": 13}, {\"decade\": \"1950s\", \"date_new\": \"1952-08-01T00:00:00\", \"n_sightings\": 2}, {\"decade\": \"1950s\", \"date_new\": \"1952-09-01T00:00:00\", \"n_sightings\": 2}, {\"decade\": \"1950s\", \"date_new\": \"1952-10-01T00:00:00\", \"n_sightings\": 2}, {\"decade\": \"1950s\", \"date_new\": \"1952-12-01T00:00:00\", \"n_sightings\": 1}, {\"decade\": \"1950s\", \"date_new\": \"1953-04-01T00:00:00\", \"n_sightings\": 6}, {\"decade\": \"1950s\", \"date_new\": \"1953-06-01T00:00:00\", \"n_sightings\": 6}, {\"decade\": \"1950s\", \"date_new\": \"1953-07-01T00:00:00\", \"n_sightings\": 4}, {\"decade\": \"1950s\", \"date_new\": \"1953-08-01T00:00:00\", \"n_sightings\": 4}, {\"decade\": \"1950s\", \"date_new\": \"1953-10-01T00:00:00\", \"n_sightings\": 2}, {\"decade\": \"1950s\", \"date_new\": \"1953-11-01T00:00:00\", \"n_sightings\": 3}, {\"decade\": \"1950s\", \"date_new\": \"1954-02-01T00:00:00\", \"n_sightings\": 2}, {\"decade\": \"1950s\", \"date_new\": \"1954-05-01T00:00:00\", \"n_sightings\": 2}, {\"decade\": \"1950s\", \"date_new\": \"1954-06-01T00:00:00\", \"n_sightings\": 13}, {\"decade\": \"1950s\", \"date_new\": \"1954-07-01T00:00:00\", \"n_sightings\": 7}, {\"decade\": \"1950s\", \"date_new\": \"1954-08-01T00:00:00\", \"n_sightings\": 5}, {\"decade\": \"1950s\", \"date_new\": \"1954-09-01T00:00:00\", \"n_sightings\": 2}, {\"decade\": \"1950s\", \"date_new\": \"1954-10-01T00:00:00\", \"n_sightings\": 3}, {\"decade\": \"1950s\", \"date_new\": \"1954-11-01T00:00:00\", \"n_sightings\": 2}, {\"decade\": \"1950s\", \"date_new\": \"1954-12-01T00:00:00\", \"n_sightings\": 2}, {\"decade\": \"1950s\", \"date_new\": \"1955-02-01T00:00:00\", \"n_sightings\": 1}, {\"decade\": \"1950s\", \"date_new\": \"1955-05-01T00:00:00\", \"n_sightings\": 2}, {\"decade\": \"1950s\", \"date_new\": \"1955-06-01T00:00:00\", \"n_sightings\": 13}, {\"decade\": \"1950s\", \"date_new\": \"1955-07-01T00:00:00\", \"n_sightings\": 3}, {\"decade\": \"1950s\", \"date_new\": \"1955-08-01T00:00:00\", \"n_sightings\": 4}, {\"decade\": \"1950s\", \"date_new\": \"1955-10-01T00:00:00\", \"n_sightings\": 2}, {\"decade\": \"1950s\", \"date_new\": \"1956-01-01T00:00:00\", \"n_sightings\": 1}, {\"decade\": \"1950s\", \"date_new\": \"1956-03-01T00:00:00\", \"n_sightings\": 3}, {\"decade\": \"1950s\", \"date_new\": \"1956-05-01T00:00:00\", \"n_sightings\": 2}, {\"decade\": \"1950s\", \"date_new\": \"1956-06-01T00:00:00\", \"n_sightings\": 18}, {\"decade\": \"1950s\", \"date_new\": \"1956-07-01T00:00:00\", \"n_sightings\": 5}, {\"decade\": \"1950s\", \"date_new\": \"1956-08-01T00:00:00\", \"n_sightings\": 2}, {\"decade\": \"1950s\", \"date_new\": \"1956-09-01T00:00:00\", \"n_sightings\": 4}, {\"decade\": \"1950s\", \"date_new\": \"1956-10-01T00:00:00\", \"n_sightings\": 2}, {\"decade\": \"1950s\", \"date_new\": \"1956-11-01T00:00:00\", \"n_sightings\": 1}, {\"decade\": \"1950s\", \"date_new\": \"1956-12-01T00:00:00\", \"n_sightings\": 1}, {\"decade\": \"1950s\", \"date_new\": \"1957-01-01T00:00:00\", \"n_sightings\": 1}, {\"decade\": \"1950s\", \"date_new\": \"1957-03-01T00:00:00\", \"n_sightings\": 3}, {\"decade\": \"1950s\", \"date_new\": \"1957-05-01T00:00:00\", \"n_sightings\": 2}, {\"decade\": \"1950s\", \"date_new\": \"1957-06-01T00:00:00\", \"n_sightings\": 16}, {\"decade\": \"1950s\", \"date_new\": \"1957-07-01T00:00:00\", \"n_sightings\": 12}, {\"decade\": \"1950s\", \"date_new\": \"1957-08-01T00:00:00\", \"n_sightings\": 9}, {\"decade\": \"1950s\", \"date_new\": \"1957-09-01T00:00:00\", \"n_sightings\": 8}, {\"decade\": \"1950s\", \"date_new\": \"1957-10-01T00:00:00\", \"n_sightings\": 5}, {\"decade\": \"1950s\", \"date_new\": \"1957-11-01T00:00:00\", \"n_sightings\": 2}, {\"decade\": \"1950s\", \"date_new\": \"1957-12-01T00:00:00\", \"n_sightings\": 2}, {\"decade\": \"1950s\", \"date_new\": \"1958-01-01T00:00:00\", \"n_sightings\": 1}, {\"decade\": \"1950s\", \"date_new\": \"1958-02-01T00:00:00\", \"n_sightings\": 1}, {\"decade\": \"1950s\", \"date_new\": \"1958-04-01T00:00:00\", \"n_sightings\": 2}, {\"decade\": \"1950s\", \"date_new\": \"1958-05-01T00:00:00\", \"n_sightings\": 1}, {\"decade\": \"1950s\", \"date_new\": \"1958-06-01T00:00:00\", \"n_sightings\": 15}, {\"decade\": \"1950s\", \"date_new\": \"1958-07-01T00:00:00\", \"n_sightings\": 5}, {\"decade\": \"1950s\", \"date_new\": \"1958-08-01T00:00:00\", \"n_sightings\": 4}, {\"decade\": \"1950s\", \"date_new\": \"1958-09-01T00:00:00\", \"n_sightings\": 3}, {\"decade\": \"1950s\", \"date_new\": \"1958-10-01T00:00:00\", \"n_sightings\": 3}, {\"decade\": \"1950s\", \"date_new\": \"1958-11-01T00:00:00\", \"n_sightings\": 2}, {\"decade\": \"1950s\", \"date_new\": \"1959-01-01T00:00:00\", \"n_sightings\": 1}, {\"decade\": \"1950s\", \"date_new\": \"1959-04-01T00:00:00\", \"n_sightings\": 3}, {\"decade\": \"1950s\", \"date_new\": \"1959-05-01T00:00:00\", \"n_sightings\": 4}, {\"decade\": \"1950s\", \"date_new\": \"1959-06-01T00:00:00\", \"n_sightings\": 13}, {\"decade\": \"1950s\", \"date_new\": \"1959-07-01T00:00:00\", \"n_sightings\": 7}, {\"decade\": \"1950s\", \"date_new\": \"1959-08-01T00:00:00\", \"n_sightings\": 5}, {\"decade\": \"1950s\", \"date_new\": \"1959-09-01T00:00:00\", \"n_sightings\": 3}, {\"decade\": \"1950s\", \"date_new\": \"1959-10-01T00:00:00\", \"n_sightings\": 3}, {\"decade\": \"1950s\", \"date_new\": \"1959-11-01T00:00:00\", \"n_sightings\": 2}, {\"decade\": \"1950s\", \"date_new\": \"1959-12-01T00:00:00\", \"n_sightings\": 2}, {\"decade\": \"1960s\", \"date_new\": \"1960-01-01T00:00:00\", \"n_sightings\": 1}, {\"decade\": \"1960s\", \"date_new\": \"1960-02-01T00:00:00\", \"n_sightings\": 3}, {\"decade\": \"1960s\", \"date_new\": \"1960-04-01T00:00:00\", \"n_sightings\": 1}, {\"decade\": \"1960s\", \"date_new\": \"1960-05-01T00:00:00\", \"n_sightings\": 2}, {\"decade\": \"1960s\", \"date_new\": \"1960-06-01T00:00:00\", \"n_sightings\": 17}, {\"decade\": \"1960s\", \"date_new\": \"1960-07-01T00:00:00\", \"n_sightings\": 5}, {\"decade\": \"1960s\", \"date_new\": \"1960-08-01T00:00:00\", \"n_sightings\": 11}, {\"decade\": \"1960s\", \"date_new\": \"1960-09-01T00:00:00\", \"n_sightings\": 5}, {\"decade\": \"1960s\", \"date_new\": \"1960-10-01T00:00:00\", \"n_sightings\": 1}, {\"decade\": \"1960s\", \"date_new\": \"1960-11-01T00:00:00\", \"n_sightings\": 3}, {\"decade\": \"1960s\", \"date_new\": \"1961-01-01T00:00:00\", \"n_sightings\": 1}, {\"decade\": \"1960s\", \"date_new\": \"1961-02-01T00:00:00\", \"n_sightings\": 2}, {\"decade\": \"1960s\", \"date_new\": \"1961-04-01T00:00:00\", \"n_sightings\": 2}, {\"decade\": \"1960s\", \"date_new\": \"1961-05-01T00:00:00\", \"n_sightings\": 1}, {\"decade\": \"1960s\", \"date_new\": \"1961-06-01T00:00:00\", \"n_sightings\": 10}, {\"decade\": \"1960s\", \"date_new\": \"1961-07-01T00:00:00\", \"n_sightings\": 4}, {\"decade\": \"1960s\", \"date_new\": \"1961-08-01T00:00:00\", \"n_sightings\": 6}, {\"decade\": \"1960s\", \"date_new\": \"1961-09-01T00:00:00\", \"n_sightings\": 1}, {\"decade\": \"1960s\", \"date_new\": \"1961-10-01T00:00:00\", \"n_sightings\": 6}, {\"decade\": \"1960s\", \"date_new\": \"1961-11-01T00:00:00\", \"n_sightings\": 2}, {\"decade\": \"1960s\", \"date_new\": \"1961-12-01T00:00:00\", \"n_sightings\": 1}, {\"decade\": \"1960s\", \"date_new\": \"1962-01-01T00:00:00\", \"n_sightings\": 1}, {\"decade\": \"1960s\", \"date_new\": \"1962-02-01T00:00:00\", \"n_sightings\": 1}, {\"decade\": \"1960s\", \"date_new\": \"1962-03-01T00:00:00\", \"n_sightings\": 5}, {\"decade\": \"1960s\", \"date_new\": \"1962-05-01T00:00:00\", \"n_sightings\": 4}, {\"decade\": \"1960s\", \"date_new\": \"1962-06-01T00:00:00\", \"n_sightings\": 15}, {\"decade\": \"1960s\", \"date_new\": \"1962-07-01T00:00:00\", \"n_sightings\": 12}, {\"decade\": \"1960s\", \"date_new\": \"1962-08-01T00:00:00\", \"n_sightings\": 9}, {\"decade\": \"1960s\", \"date_new\": \"1962-09-01T00:00:00\", \"n_sightings\": 4}, {\"decade\": \"1960s\", \"date_new\": \"1962-10-01T00:00:00\", \"n_sightings\": 1}, {\"decade\": \"1960s\", \"date_new\": \"1962-11-01T00:00:00\", \"n_sightings\": 3}, {\"decade\": \"1960s\", \"date_new\": \"1962-12-01T00:00:00\", \"n_sightings\": 1}, {\"decade\": \"1960s\", \"date_new\": \"1963-01-01T00:00:00\", \"n_sightings\": 2}, {\"decade\": \"1960s\", \"date_new\": \"1963-02-01T00:00:00\", \"n_sightings\": 1}, {\"decade\": \"1960s\", \"date_new\": \"1963-03-01T00:00:00\", \"n_sightings\": 1}, {\"decade\": \"1960s\", \"date_new\": \"1963-04-01T00:00:00\", \"n_sightings\": 4}, {\"decade\": \"1960s\", \"date_new\": \"1963-05-01T00:00:00\", \"n_sightings\": 3}, {\"decade\": \"1960s\", \"date_new\": \"1963-06-01T00:00:00\", \"n_sightings\": 22}, {\"decade\": \"1960s\", \"date_new\": \"1963-07-01T00:00:00\", \"n_sightings\": 15}, {\"decade\": \"1960s\", \"date_new\": \"1963-08-01T00:00:00\", \"n_sightings\": 9}, {\"decade\": \"1960s\", \"date_new\": \"1963-10-01T00:00:00\", \"n_sightings\": 4}, {\"decade\": \"1960s\", \"date_new\": \"1963-12-01T00:00:00\", \"n_sightings\": 1}, {\"decade\": \"1960s\", \"date_new\": \"1964-01-01T00:00:00\", \"n_sightings\": 2}, {\"decade\": \"1960s\", \"date_new\": \"1964-03-01T00:00:00\", \"n_sightings\": 3}, {\"decade\": \"1960s\", \"date_new\": \"1964-04-01T00:00:00\", \"n_sightings\": 4}, {\"decade\": \"1960s\", \"date_new\": \"1964-05-01T00:00:00\", \"n_sightings\": 6}, {\"decade\": \"1960s\", \"date_new\": \"1964-06-01T00:00:00\", \"n_sightings\": 21}, {\"decade\": \"1960s\", \"date_new\": \"1964-07-01T00:00:00\", \"n_sightings\": 14}, {\"decade\": \"1960s\", \"date_new\": \"1964-08-01T00:00:00\", \"n_sightings\": 12}, {\"decade\": \"1960s\", \"date_new\": \"1964-09-01T00:00:00\", \"n_sightings\": 8}, {\"decade\": \"1960s\", \"date_new\": \"1964-10-01T00:00:00\", \"n_sightings\": 4}, {\"decade\": \"1960s\", \"date_new\": \"1964-11-01T00:00:00\", \"n_sightings\": 4}, {\"decade\": \"1960s\", \"date_new\": \"1965-01-01T00:00:00\", \"n_sightings\": 3}, {\"decade\": \"1960s\", \"date_new\": \"1965-02-01T00:00:00\", \"n_sightings\": 2}, {\"decade\": \"1960s\", \"date_new\": \"1965-03-01T00:00:00\", \"n_sightings\": 2}, {\"decade\": \"1960s\", \"date_new\": \"1965-04-01T00:00:00\", \"n_sightings\": 5}, {\"decade\": \"1960s\", \"date_new\": \"1965-05-01T00:00:00\", \"n_sightings\": 8}, {\"decade\": \"1960s\", \"date_new\": \"1965-06-01T00:00:00\", \"n_sightings\": 38}, {\"decade\": \"1960s\", \"date_new\": \"1965-07-01T00:00:00\", \"n_sightings\": 28}, {\"decade\": \"1960s\", \"date_new\": \"1965-08-01T00:00:00\", \"n_sightings\": 27}, {\"decade\": \"1960s\", \"date_new\": \"1965-09-01T00:00:00\", \"n_sightings\": 7}, {\"decade\": \"1960s\", \"date_new\": \"1965-10-01T00:00:00\", \"n_sightings\": 14}, {\"decade\": \"1960s\", \"date_new\": \"1965-11-01T00:00:00\", \"n_sightings\": 8}, {\"decade\": \"1960s\", \"date_new\": \"1965-12-01T00:00:00\", \"n_sightings\": 13}, {\"decade\": \"1960s\", \"date_new\": \"1966-01-01T00:00:00\", \"n_sightings\": 2}, {\"decade\": \"1960s\", \"date_new\": \"1966-02-01T00:00:00\", \"n_sightings\": 3}, {\"decade\": \"1960s\", \"date_new\": \"1966-03-01T00:00:00\", \"n_sightings\": 10}, {\"decade\": \"1960s\", \"date_new\": \"1966-04-01T00:00:00\", \"n_sightings\": 7}, {\"decade\": \"1960s\", \"date_new\": \"1966-05-01T00:00:00\", \"n_sightings\": 9}, {\"decade\": \"1960s\", \"date_new\": \"1966-06-01T00:00:00\", \"n_sightings\": 48}, {\"decade\": \"1960s\", \"date_new\": \"1966-07-01T00:00:00\", \"n_sightings\": 19}, {\"decade\": \"1960s\", \"date_new\": \"1966-08-01T00:00:00\", \"n_sightings\": 17}, {\"decade\": \"1960s\", \"date_new\": \"1966-09-01T00:00:00\", \"n_sightings\": 16}, {\"decade\": \"1960s\", \"date_new\": \"1966-10-01T00:00:00\", \"n_sightings\": 13}, {\"decade\": \"1960s\", \"date_new\": \"1966-11-01T00:00:00\", \"n_sightings\": 6}, {\"decade\": \"1960s\", \"date_new\": \"1966-12-01T00:00:00\", \"n_sightings\": 4}, {\"decade\": \"1960s\", \"date_new\": \"1967-02-01T00:00:00\", \"n_sightings\": 4}, {\"decade\": \"1960s\", \"date_new\": \"1967-03-01T00:00:00\", \"n_sightings\": 6}, {\"decade\": \"1960s\", \"date_new\": \"1967-04-01T00:00:00\", \"n_sightings\": 11}, {\"decade\": \"1960s\", \"date_new\": \"1967-05-01T00:00:00\", \"n_sightings\": 9}, {\"decade\": \"1960s\", \"date_new\": \"1967-06-01T00:00:00\", \"n_sightings\": 40}, {\"decade\": \"1960s\", \"date_new\": \"1967-07-01T00:00:00\", \"n_sightings\": 11}, {\"decade\": \"1960s\", \"date_new\": \"1967-08-01T00:00:00\", \"n_sightings\": 23}, {\"decade\": \"1960s\", \"date_new\": \"1967-09-01T00:00:00\", \"n_sightings\": 18}, {\"decade\": \"1960s\", \"date_new\": \"1967-10-01T00:00:00\", \"n_sightings\": 14}, {\"decade\": \"1960s\", \"date_new\": \"1967-11-01T00:00:00\", \"n_sightings\": 4}, {\"decade\": \"1960s\", \"date_new\": \"1967-12-01T00:00:00\", \"n_sightings\": 2}, {\"decade\": \"1960s\", \"date_new\": \"1968-01-01T00:00:00\", \"n_sightings\": 10}, {\"decade\": \"1960s\", \"date_new\": \"1968-02-01T00:00:00\", \"n_sightings\": 1}, {\"decade\": \"1960s\", \"date_new\": \"1968-03-01T00:00:00\", \"n_sightings\": 2}, {\"decade\": \"1960s\", \"date_new\": \"1968-04-01T00:00:00\", \"n_sightings\": 10}, {\"decade\": \"1960s\", \"date_new\": \"1968-05-01T00:00:00\", \"n_sightings\": 9}, {\"decade\": \"1960s\", \"date_new\": \"1968-06-01T00:00:00\", \"n_sightings\": 57}, {\"decade\": \"1960s\", \"date_new\": \"1968-07-01T00:00:00\", \"n_sightings\": 30}, {\"decade\": \"1960s\", \"date_new\": \"1968-08-01T00:00:00\", \"n_sightings\": 17}, {\"decade\": \"1960s\", \"date_new\": \"1968-09-01T00:00:00\", \"n_sightings\": 9}, {\"decade\": \"1960s\", \"date_new\": \"1968-10-01T00:00:00\", \"n_sightings\": 15}, {\"decade\": \"1960s\", \"date_new\": \"1968-11-01T00:00:00\", \"n_sightings\": 4}, {\"decade\": \"1960s\", \"date_new\": \"1968-12-01T00:00:00\", \"n_sightings\": 4}, {\"decade\": \"1960s\", \"date_new\": \"1969-01-01T00:00:00\", \"n_sightings\": 4}, {\"decade\": \"1960s\", \"date_new\": \"1969-02-01T00:00:00\", \"n_sightings\": 1}, {\"decade\": \"1960s\", \"date_new\": \"1969-03-01T00:00:00\", \"n_sightings\": 5}, {\"decade\": \"1960s\", \"date_new\": \"1969-04-01T00:00:00\", \"n_sightings\": 2}, {\"decade\": \"1960s\", \"date_new\": \"1969-05-01T00:00:00\", \"n_sightings\": 6}, {\"decade\": \"1960s\", \"date_new\": \"1969-06-01T00:00:00\", \"n_sightings\": 29}, {\"decade\": \"1960s\", \"date_new\": \"1969-07-01T00:00:00\", \"n_sightings\": 28}, {\"decade\": \"1960s\", \"date_new\": \"1969-08-01T00:00:00\", \"n_sightings\": 16}, {\"decade\": \"1960s\", \"date_new\": \"1969-09-01T00:00:00\", \"n_sightings\": 4}, {\"decade\": \"1960s\", \"date_new\": \"1969-10-01T00:00:00\", \"n_sightings\": 14}, {\"decade\": \"1960s\", \"date_new\": \"1969-11-01T00:00:00\", \"n_sightings\": 5}, {\"decade\": \"1960s\", \"date_new\": \"1969-12-01T00:00:00\", \"n_sightings\": 4}, {\"decade\": \"1970s\", \"date_new\": \"1970-01-01T00:00:00\", \"n_sightings\": 7}, {\"decade\": \"1970s\", \"date_new\": \"1970-02-01T00:00:00\", \"n_sightings\": 4}, {\"decade\": \"1970s\", \"date_new\": \"1970-03-01T00:00:00\", \"n_sightings\": 3}, {\"decade\": \"1970s\", \"date_new\": \"1970-04-01T00:00:00\", \"n_sightings\": 2}, {\"decade\": \"1970s\", \"date_new\": \"1970-05-01T00:00:00\", \"n_sightings\": 10}, {\"decade\": \"1970s\", \"date_new\": \"1970-06-01T00:00:00\", \"n_sightings\": 26}, {\"decade\": \"1970s\", \"date_new\": \"1970-07-01T00:00:00\", \"n_sightings\": 18}, {\"decade\": \"1970s\", \"date_new\": \"1970-08-01T00:00:00\", \"n_sightings\": 8}, {\"decade\": \"1970s\", \"date_new\": \"1970-09-01T00:00:00\", \"n_sightings\": 8}, {\"decade\": \"1970s\", \"date_new\": \"1970-10-01T00:00:00\", \"n_sightings\": 8}, {\"decade\": \"1970s\", \"date_new\": \"1970-11-01T00:00:00\", \"n_sightings\": 5}, {\"decade\": \"1970s\", \"date_new\": \"1970-12-01T00:00:00\", \"n_sightings\": 5}, {\"decade\": \"1970s\", \"date_new\": \"1971-01-01T00:00:00\", \"n_sightings\": 1}, {\"decade\": \"1970s\", \"date_new\": \"1971-02-01T00:00:00\", \"n_sightings\": 6}, {\"decade\": \"1970s\", \"date_new\": \"1971-03-01T00:00:00\", \"n_sightings\": 1}, {\"decade\": \"1970s\", \"date_new\": \"1971-04-01T00:00:00\", \"n_sightings\": 8}, {\"decade\": \"1970s\", \"date_new\": \"1971-05-01T00:00:00\", \"n_sightings\": 6}, {\"decade\": \"1970s\", \"date_new\": \"1971-06-01T00:00:00\", \"n_sightings\": 21}, {\"decade\": \"1970s\", \"date_new\": \"1971-07-01T00:00:00\", \"n_sightings\": 17}, {\"decade\": \"1970s\", \"date_new\": \"1971-08-01T00:00:00\", \"n_sightings\": 9}, {\"decade\": \"1970s\", \"date_new\": \"1971-09-01T00:00:00\", \"n_sightings\": 13}, {\"decade\": \"1970s\", \"date_new\": \"1971-10-01T00:00:00\", \"n_sightings\": 10}, {\"decade\": \"1970s\", \"date_new\": \"1971-11-01T00:00:00\", \"n_sightings\": 3}, {\"decade\": \"1970s\", \"date_new\": \"1971-12-01T00:00:00\", \"n_sightings\": 1}, {\"decade\": \"1970s\", \"date_new\": \"1972-01-01T00:00:00\", \"n_sightings\": 4}, {\"decade\": \"1970s\", \"date_new\": \"1972-02-01T00:00:00\", \"n_sightings\": 1}, {\"decade\": \"1970s\", \"date_new\": \"1972-03-01T00:00:00\", \"n_sightings\": 8}, {\"decade\": \"1970s\", \"date_new\": \"1972-04-01T00:00:00\", \"n_sightings\": 2}, {\"decade\": \"1970s\", \"date_new\": \"1972-05-01T00:00:00\", \"n_sightings\": 4}, {\"decade\": \"1970s\", \"date_new\": \"1972-06-01T00:00:00\", \"n_sightings\": 37}, {\"decade\": \"1970s\", \"date_new\": \"1972-07-01T00:00:00\", \"n_sightings\": 20}, {\"decade\": \"1970s\", \"date_new\": \"1972-08-01T00:00:00\", \"n_sightings\": 14}, {\"decade\": \"1970s\", \"date_new\": \"1972-09-01T00:00:00\", \"n_sightings\": 10}, {\"decade\": \"1970s\", \"date_new\": \"1972-10-01T00:00:00\", \"n_sightings\": 7}, {\"decade\": \"1970s\", \"date_new\": \"1972-11-01T00:00:00\", \"n_sightings\": 5}, {\"decade\": \"1970s\", \"date_new\": \"1972-12-01T00:00:00\", \"n_sightings\": 3}, {\"decade\": \"1970s\", \"date_new\": \"1973-01-01T00:00:00\", \"n_sightings\": 4}, {\"decade\": \"1970s\", \"date_new\": \"1973-02-01T00:00:00\", \"n_sightings\": 4}, {\"decade\": \"1970s\", \"date_new\": \"1973-03-01T00:00:00\", \"n_sightings\": 7}, {\"decade\": \"1970s\", \"date_new\": \"1973-04-01T00:00:00\", \"n_sightings\": 7}, {\"decade\": \"1970s\", \"date_new\": \"1973-05-01T00:00:00\", \"n_sightings\": 10}, {\"decade\": \"1970s\", \"date_new\": \"1973-06-01T00:00:00\", \"n_sightings\": 34}, {\"decade\": \"1970s\", \"date_new\": \"1973-07-01T00:00:00\", \"n_sightings\": 31}, {\"decade\": \"1970s\", \"date_new\": \"1973-08-01T00:00:00\", \"n_sightings\": 21}, {\"decade\": \"1970s\", \"date_new\": \"1973-09-01T00:00:00\", \"n_sightings\": 16}, {\"decade\": \"1970s\", \"date_new\": \"1973-10-01T00:00:00\", \"n_sightings\": 30}, {\"decade\": \"1970s\", \"date_new\": \"1973-11-01T00:00:00\", \"n_sightings\": 9}, {\"decade\": \"1970s\", \"date_new\": \"1973-12-01T00:00:00\", \"n_sightings\": 4}, {\"decade\": \"1970s\", \"date_new\": \"1974-01-01T00:00:00\", \"n_sightings\": 8}, {\"decade\": \"1970s\", \"date_new\": \"1974-02-01T00:00:00\", \"n_sightings\": 4}, {\"decade\": \"1970s\", \"date_new\": \"1974-03-01T00:00:00\", \"n_sightings\": 4}, {\"decade\": \"1970s\", \"date_new\": \"1974-04-01T00:00:00\", \"n_sightings\": 11}, {\"decade\": \"1970s\", \"date_new\": \"1974-05-01T00:00:00\", \"n_sightings\": 14}, {\"decade\": \"1970s\", \"date_new\": \"1974-06-01T00:00:00\", \"n_sightings\": 52}, {\"decade\": \"1970s\", \"date_new\": \"1974-07-01T00:00:00\", \"n_sightings\": 37}, {\"decade\": \"1970s\", \"date_new\": \"1974-08-01T00:00:00\", \"n_sightings\": 30}, {\"decade\": \"1970s\", \"date_new\": \"1974-09-01T00:00:00\", \"n_sightings\": 15}, {\"decade\": \"1970s\", \"date_new\": \"1974-10-01T00:00:00\", \"n_sightings\": 22}, {\"decade\": \"1970s\", \"date_new\": \"1974-11-01T00:00:00\", \"n_sightings\": 13}, {\"decade\": \"1970s\", \"date_new\": \"1974-12-01T00:00:00\", \"n_sightings\": 4}, {\"decade\": \"1970s\", \"date_new\": \"1975-01-01T00:00:00\", \"n_sightings\": 11}, {\"decade\": \"1970s\", \"date_new\": \"1975-02-01T00:00:00\", \"n_sightings\": 2}, {\"decade\": \"1970s\", \"date_new\": \"1975-03-01T00:00:00\", \"n_sightings\": 6}, {\"decade\": \"1970s\", \"date_new\": \"1975-04-01T00:00:00\", \"n_sightings\": 12}, {\"decade\": \"1970s\", \"date_new\": \"1975-05-01T00:00:00\", \"n_sightings\": 11}, {\"decade\": \"1970s\", \"date_new\": \"1975-06-01T00:00:00\", \"n_sightings\": 67}, {\"decade\": \"1970s\", \"date_new\": \"1975-07-01T00:00:00\", \"n_sightings\": 36}, {\"decade\": \"1970s\", \"date_new\": \"1975-08-01T00:00:00\", \"n_sightings\": 32}, {\"decade\": \"1970s\", \"date_new\": \"1975-09-01T00:00:00\", \"n_sightings\": 15}, {\"decade\": \"1970s\", \"date_new\": \"1975-10-01T00:00:00\", \"n_sightings\": 22}, {\"decade\": \"1970s\", \"date_new\": \"1975-11-01T00:00:00\", \"n_sightings\": 15}, {\"decade\": \"1970s\", \"date_new\": \"1975-12-01T00:00:00\", \"n_sightings\": 11}, {\"decade\": \"1970s\", \"date_new\": \"1976-01-01T00:00:00\", \"n_sightings\": 2}, {\"decade\": \"1970s\", \"date_new\": \"1976-02-01T00:00:00\", \"n_sightings\": 7}, {\"decade\": \"1970s\", \"date_new\": \"1976-03-01T00:00:00\", \"n_sightings\": 3}, {\"decade\": \"1970s\", \"date_new\": \"1976-04-01T00:00:00\", \"n_sightings\": 6}, {\"decade\": \"1970s\", \"date_new\": \"1976-05-01T00:00:00\", \"n_sightings\": 13}, {\"decade\": \"1970s\", \"date_new\": \"1976-06-01T00:00:00\", \"n_sightings\": 72}, {\"decade\": \"1970s\", \"date_new\": \"1976-07-01T00:00:00\", \"n_sightings\": 40}, {\"decade\": \"1970s\", \"date_new\": \"1976-08-01T00:00:00\", \"n_sightings\": 21}, {\"decade\": \"1970s\", \"date_new\": \"1976-09-01T00:00:00\", \"n_sightings\": 20}, {\"decade\": \"1970s\", \"date_new\": \"1976-10-01T00:00:00\", \"n_sightings\": 14}, {\"decade\": \"1970s\", \"date_new\": \"1976-11-01T00:00:00\", \"n_sightings\": 10}, {\"decade\": \"1970s\", \"date_new\": \"1976-12-01T00:00:00\", \"n_sightings\": 5}, {\"decade\": \"1970s\", \"date_new\": \"1977-01-01T00:00:00\", \"n_sightings\": 6}, {\"decade\": \"1970s\", \"date_new\": \"1977-02-01T00:00:00\", \"n_sightings\": 1}, {\"decade\": \"1970s\", \"date_new\": \"1977-03-01T00:00:00\", \"n_sightings\": 11}, {\"decade\": \"1970s\", \"date_new\": \"1977-04-01T00:00:00\", \"n_sightings\": 10}, {\"decade\": \"1970s\", \"date_new\": \"1977-05-01T00:00:00\", \"n_sightings\": 19}, {\"decade\": \"1970s\", \"date_new\": \"1977-06-01T00:00:00\", \"n_sightings\": 51}, {\"decade\": \"1970s\", \"date_new\": \"1977-07-01T00:00:00\", \"n_sightings\": 36}, {\"decade\": \"1970s\", \"date_new\": \"1977-08-01T00:00:00\", \"n_sightings\": 22}, {\"decade\": \"1970s\", \"date_new\": \"1977-09-01T00:00:00\", \"n_sightings\": 16}, {\"decade\": \"1970s\", \"date_new\": \"1977-10-01T00:00:00\", \"n_sightings\": 10}, {\"decade\": \"1970s\", \"date_new\": \"1977-11-01T00:00:00\", \"n_sightings\": 13}, {\"decade\": \"1970s\", \"date_new\": \"1977-12-01T00:00:00\", \"n_sightings\": 6}, {\"decade\": \"1970s\", \"date_new\": \"1978-01-01T00:00:00\", \"n_sightings\": 11}, {\"decade\": \"1970s\", \"date_new\": \"1978-02-01T00:00:00\", \"n_sightings\": 5}, {\"decade\": \"1970s\", \"date_new\": \"1978-03-01T00:00:00\", \"n_sightings\": 10}, {\"decade\": \"1970s\", \"date_new\": \"1978-04-01T00:00:00\", \"n_sightings\": 9}, {\"decade\": \"1970s\", \"date_new\": \"1978-05-01T00:00:00\", \"n_sightings\": 10}, {\"decade\": \"1970s\", \"date_new\": \"1978-06-01T00:00:00\", \"n_sightings\": 53}, {\"decade\": \"1970s\", \"date_new\": \"1978-07-01T00:00:00\", \"n_sightings\": 57}, {\"decade\": \"1970s\", \"date_new\": \"1978-08-01T00:00:00\", \"n_sightings\": 40}, {\"decade\": \"1970s\", \"date_new\": \"1978-09-01T00:00:00\", \"n_sightings\": 16}, {\"decade\": \"1970s\", \"date_new\": \"1978-10-01T00:00:00\", \"n_sightings\": 19}, {\"decade\": \"1970s\", \"date_new\": \"1978-11-01T00:00:00\", \"n_sightings\": 12}, {\"decade\": \"1970s\", \"date_new\": \"1978-12-01T00:00:00\", \"n_sightings\": 10}, {\"decade\": \"1970s\", \"date_new\": \"1979-01-01T00:00:00\", \"n_sightings\": 6}, {\"decade\": \"1970s\", \"date_new\": \"1979-02-01T00:00:00\", \"n_sightings\": 8}, {\"decade\": \"1970s\", \"date_new\": \"1979-03-01T00:00:00\", \"n_sightings\": 9}, {\"decade\": \"1970s\", \"date_new\": \"1979-04-01T00:00:00\", \"n_sightings\": 12}, {\"decade\": \"1970s\", \"date_new\": \"1979-05-01T00:00:00\", \"n_sightings\": 10}, {\"decade\": \"1970s\", \"date_new\": \"1979-06-01T00:00:00\", \"n_sightings\": 43}, {\"decade\": \"1970s\", \"date_new\": \"1979-07-01T00:00:00\", \"n_sightings\": 31}, {\"decade\": \"1970s\", \"date_new\": \"1979-08-01T00:00:00\", \"n_sightings\": 19}, {\"decade\": \"1970s\", \"date_new\": \"1979-09-01T00:00:00\", \"n_sightings\": 20}, {\"decade\": \"1970s\", \"date_new\": \"1979-10-01T00:00:00\", \"n_sightings\": 14}, {\"decade\": \"1970s\", \"date_new\": \"1979-11-01T00:00:00\", \"n_sightings\": 10}, {\"decade\": \"1970s\", \"date_new\": \"1979-12-01T00:00:00\", \"n_sightings\": 7}, {\"decade\": \"1980s\", \"date_new\": \"1980-01-01T00:00:00\", \"n_sightings\": 9}, {\"decade\": \"1980s\", \"date_new\": \"1980-02-01T00:00:00\", \"n_sightings\": 3}, {\"decade\": \"1980s\", \"date_new\": \"1980-03-01T00:00:00\", \"n_sightings\": 11}, {\"decade\": \"1980s\", \"date_new\": \"1980-04-01T00:00:00\", \"n_sightings\": 5}, {\"decade\": \"1980s\", \"date_new\": \"1980-05-01T00:00:00\", \"n_sightings\": 19}, {\"decade\": \"1980s\", \"date_new\": \"1980-06-01T00:00:00\", \"n_sightings\": 44}, {\"decade\": \"1980s\", \"date_new\": \"1980-07-01T00:00:00\", \"n_sightings\": 30}, {\"decade\": \"1980s\", \"date_new\": \"1980-08-01T00:00:00\", \"n_sightings\": 20}, {\"decade\": \"1980s\", \"date_new\": \"1980-09-01T00:00:00\", \"n_sightings\": 12}, {\"decade\": \"1980s\", \"date_new\": \"1980-10-01T00:00:00\", \"n_sightings\": 22}, {\"decade\": \"1980s\", \"date_new\": \"1980-11-01T00:00:00\", \"n_sightings\": 5}, {\"decade\": \"1980s\", \"date_new\": \"1980-12-01T00:00:00\", \"n_sightings\": 8}, {\"decade\": \"1980s\", \"date_new\": \"1981-01-01T00:00:00\", \"n_sightings\": 9}, {\"decade\": \"1980s\", \"date_new\": \"1981-02-01T00:00:00\", \"n_sightings\": 4}, {\"decade\": \"1980s\", \"date_new\": \"1981-03-01T00:00:00\", \"n_sightings\": 5}, {\"decade\": \"1980s\", \"date_new\": \"1981-04-01T00:00:00\", \"n_sightings\": 8}, {\"decade\": \"1980s\", \"date_new\": \"1981-05-01T00:00:00\", \"n_sightings\": 5}, {\"decade\": \"1980s\", \"date_new\": \"1981-06-01T00:00:00\", \"n_sightings\": 33}, {\"decade\": \"1980s\", \"date_new\": \"1981-07-01T00:00:00\", \"n_sightings\": 13}, {\"decade\": \"1980s\", \"date_new\": \"1981-08-01T00:00:00\", \"n_sightings\": 18}, {\"decade\": \"1980s\", \"date_new\": \"1981-09-01T00:00:00\", \"n_sightings\": 14}, {\"decade\": \"1980s\", \"date_new\": \"1981-10-01T00:00:00\", \"n_sightings\": 7}, {\"decade\": \"1980s\", \"date_new\": \"1981-11-01T00:00:00\", \"n_sightings\": 8}, {\"decade\": \"1980s\", \"date_new\": \"1981-12-01T00:00:00\", \"n_sightings\": 3}, {\"decade\": \"1980s\", \"date_new\": \"1982-01-01T00:00:00\", \"n_sightings\": 1}, {\"decade\": \"1980s\", \"date_new\": \"1982-02-01T00:00:00\", \"n_sightings\": 2}, {\"decade\": \"1980s\", \"date_new\": \"1982-04-01T00:00:00\", \"n_sightings\": 1}, {\"decade\": \"1980s\", \"date_new\": \"1982-05-01T00:00:00\", \"n_sightings\": 8}, {\"decade\": \"1980s\", \"date_new\": \"1982-06-01T00:00:00\", \"n_sightings\": 44}, {\"decade\": \"1980s\", \"date_new\": \"1982-07-01T00:00:00\", \"n_sightings\": 20}, {\"decade\": \"1980s\", \"date_new\": \"1982-08-01T00:00:00\", \"n_sightings\": 15}, {\"decade\": \"1980s\", \"date_new\": \"1982-09-01T00:00:00\", \"n_sightings\": 14}, {\"decade\": \"1980s\", \"date_new\": \"1982-10-01T00:00:00\", \"n_sightings\": 12}, {\"decade\": \"1980s\", \"date_new\": \"1982-11-01T00:00:00\", \"n_sightings\": 5}, {\"decade\": \"1980s\", \"date_new\": \"1982-12-01T00:00:00\", \"n_sightings\": 7}, {\"decade\": \"1980s\", \"date_new\": \"1983-01-01T00:00:00\", \"n_sightings\": 3}, {\"decade\": \"1980s\", \"date_new\": \"1983-02-01T00:00:00\", \"n_sightings\": 3}, {\"decade\": \"1980s\", \"date_new\": \"1983-03-01T00:00:00\", \"n_sightings\": 5}, {\"decade\": \"1980s\", \"date_new\": \"1983-04-01T00:00:00\", \"n_sightings\": 11}, {\"decade\": \"1980s\", \"date_new\": \"1983-05-01T00:00:00\", \"n_sightings\": 12}, {\"decade\": \"1980s\", \"date_new\": \"1983-06-01T00:00:00\", \"n_sightings\": 27}, {\"decade\": \"1980s\", \"date_new\": \"1983-07-01T00:00:00\", \"n_sightings\": 19}, {\"decade\": \"1980s\", \"date_new\": \"1983-08-01T00:00:00\", \"n_sightings\": 15}, {\"decade\": \"1980s\", \"date_new\": \"1983-09-01T00:00:00\", \"n_sightings\": 9}, {\"decade\": \"1980s\", \"date_new\": \"1983-10-01T00:00:00\", \"n_sightings\": 6}, {\"decade\": \"1980s\", \"date_new\": \"1983-11-01T00:00:00\", \"n_sightings\": 5}, {\"decade\": \"1980s\", \"date_new\": \"1983-12-01T00:00:00\", \"n_sightings\": 4}, {\"decade\": \"1980s\", \"date_new\": \"1984-01-01T00:00:00\", \"n_sightings\": 6}, {\"decade\": \"1980s\", \"date_new\": \"1984-02-01T00:00:00\", \"n_sightings\": 1}, {\"decade\": \"1980s\", \"date_new\": \"1984-03-01T00:00:00\", \"n_sightings\": 8}, {\"decade\": \"1980s\", \"date_new\": \"1984-04-01T00:00:00\", \"n_sightings\": 6}, {\"decade\": \"1980s\", \"date_new\": \"1984-05-01T00:00:00\", \"n_sightings\": 11}, {\"decade\": \"1980s\", \"date_new\": \"1984-06-01T00:00:00\", \"n_sightings\": 36}, {\"decade\": \"1980s\", \"date_new\": \"1984-07-01T00:00:00\", \"n_sightings\": 19}, {\"decade\": \"1980s\", \"date_new\": \"1984-08-01T00:00:00\", \"n_sightings\": 16}, {\"decade\": \"1980s\", \"date_new\": \"1984-09-01T00:00:00\", \"n_sightings\": 10}, {\"decade\": \"1980s\", \"date_new\": \"1984-10-01T00:00:00\", \"n_sightings\": 15}, {\"decade\": \"1980s\", \"date_new\": \"1984-11-01T00:00:00\", \"n_sightings\": 10}, {\"decade\": \"1980s\", \"date_new\": \"1984-12-01T00:00:00\", \"n_sightings\": 2}, {\"decade\": \"1980s\", \"date_new\": \"1985-01-01T00:00:00\", \"n_sightings\": 7}, {\"decade\": \"1980s\", \"date_new\": \"1985-02-01T00:00:00\", \"n_sightings\": 4}, {\"decade\": \"1980s\", \"date_new\": \"1985-03-01T00:00:00\", \"n_sightings\": 5}, {\"decade\": \"1980s\", \"date_new\": \"1985-04-01T00:00:00\", \"n_sightings\": 10}, {\"decade\": \"1980s\", \"date_new\": \"1985-05-01T00:00:00\", \"n_sightings\": 13}, {\"decade\": \"1980s\", \"date_new\": \"1985-06-01T00:00:00\", \"n_sightings\": 44}, {\"decade\": \"1980s\", \"date_new\": \"1985-07-01T00:00:00\", \"n_sightings\": 27}, {\"decade\": \"1980s\", \"date_new\": \"1985-08-01T00:00:00\", \"n_sightings\": 17}, {\"decade\": \"1980s\", \"date_new\": \"1985-09-01T00:00:00\", \"n_sightings\": 12}, {\"decade\": \"1980s\", \"date_new\": \"1985-10-01T00:00:00\", \"n_sightings\": 15}, {\"decade\": \"1980s\", \"date_new\": \"1985-11-01T00:00:00\", \"n_sightings\": 8}, {\"decade\": \"1980s\", \"date_new\": \"1985-12-01T00:00:00\", \"n_sightings\": 5}, {\"decade\": \"1980s\", \"date_new\": \"1986-01-01T00:00:00\", \"n_sightings\": 5}, {\"decade\": \"1980s\", \"date_new\": \"1986-02-01T00:00:00\", \"n_sightings\": 3}, {\"decade\": \"1980s\", \"date_new\": \"1986-03-01T00:00:00\", \"n_sightings\": 5}, {\"decade\": \"1980s\", \"date_new\": \"1986-04-01T00:00:00\", \"n_sightings\": 9}, {\"decade\": \"1980s\", \"date_new\": \"1986-05-01T00:00:00\", \"n_sightings\": 8}, {\"decade\": \"1980s\", \"date_new\": \"1986-06-01T00:00:00\", \"n_sightings\": 35}, {\"decade\": \"1980s\", \"date_new\": \"1986-07-01T00:00:00\", \"n_sightings\": 19}, {\"decade\": \"1980s\", \"date_new\": \"1986-08-01T00:00:00\", \"n_sightings\": 20}, {\"decade\": \"1980s\", \"date_new\": \"1986-09-01T00:00:00\", \"n_sightings\": 15}, {\"decade\": \"1980s\", \"date_new\": \"1986-10-01T00:00:00\", \"n_sightings\": 15}, {\"decade\": \"1980s\", \"date_new\": \"1986-11-01T00:00:00\", \"n_sightings\": 7}, {\"decade\": \"1980s\", \"date_new\": \"1986-12-01T00:00:00\", \"n_sightings\": 7}, {\"decade\": \"1980s\", \"date_new\": \"1987-01-01T00:00:00\", \"n_sightings\": 6}, {\"decade\": \"1980s\", \"date_new\": \"1987-02-01T00:00:00\", \"n_sightings\": 2}, {\"decade\": \"1980s\", \"date_new\": \"1987-03-01T00:00:00\", \"n_sightings\": 9}, {\"decade\": \"1980s\", \"date_new\": \"1987-04-01T00:00:00\", \"n_sightings\": 12}, {\"decade\": \"1980s\", \"date_new\": \"1987-05-01T00:00:00\", \"n_sightings\": 14}, {\"decade\": \"1980s\", \"date_new\": \"1987-06-01T00:00:00\", \"n_sightings\": 29}, {\"decade\": \"1980s\", \"date_new\": \"1987-07-01T00:00:00\", \"n_sightings\": 30}, {\"decade\": \"1980s\", \"date_new\": \"1987-08-01T00:00:00\", \"n_sightings\": 18}, {\"decade\": \"1980s\", \"date_new\": \"1987-09-01T00:00:00\", \"n_sightings\": 11}, {\"decade\": \"1980s\", \"date_new\": \"1987-10-01T00:00:00\", \"n_sightings\": 21}, {\"decade\": \"1980s\", \"date_new\": \"1987-11-01T00:00:00\", \"n_sightings\": 13}, {\"decade\": \"1980s\", \"date_new\": \"1987-12-01T00:00:00\", \"n_sightings\": 5}, {\"decade\": \"1980s\", \"date_new\": \"1988-01-01T00:00:00\", \"n_sightings\": 9}, {\"decade\": \"1980s\", \"date_new\": \"1988-02-01T00:00:00\", \"n_sightings\": 5}, {\"decade\": \"1980s\", \"date_new\": \"1988-03-01T00:00:00\", \"n_sightings\": 10}, {\"decade\": \"1980s\", \"date_new\": \"1988-04-01T00:00:00\", \"n_sightings\": 7}, {\"decade\": \"1980s\", \"date_new\": \"1988-05-01T00:00:00\", \"n_sightings\": 10}, {\"decade\": \"1980s\", \"date_new\": \"1988-06-01T00:00:00\", \"n_sightings\": 35}, {\"decade\": \"1980s\", \"date_new\": \"1988-07-01T00:00:00\", \"n_sightings\": 25}, {\"decade\": \"1980s\", \"date_new\": \"1988-08-01T00:00:00\", \"n_sightings\": 34}, {\"decade\": \"1980s\", \"date_new\": \"1988-09-01T00:00:00\", \"n_sightings\": 11}, {\"decade\": \"1980s\", \"date_new\": \"1988-10-01T00:00:00\", \"n_sightings\": 22}, {\"decade\": \"1980s\", \"date_new\": \"1988-11-01T00:00:00\", \"n_sightings\": 13}, {\"decade\": \"1980s\", \"date_new\": \"1988-12-01T00:00:00\", \"n_sightings\": 4}, {\"decade\": \"1980s\", \"date_new\": \"1989-01-01T00:00:00\", \"n_sightings\": 10}, {\"decade\": \"1980s\", \"date_new\": \"1989-02-01T00:00:00\", \"n_sightings\": 5}, {\"decade\": \"1980s\", \"date_new\": \"1989-03-01T00:00:00\", \"n_sightings\": 7}, {\"decade\": \"1980s\", \"date_new\": \"1989-04-01T00:00:00\", \"n_sightings\": 6}, {\"decade\": \"1980s\", \"date_new\": \"1989-05-01T00:00:00\", \"n_sightings\": 15}, {\"decade\": \"1980s\", \"date_new\": \"1989-06-01T00:00:00\", \"n_sightings\": 35}, {\"decade\": \"1980s\", \"date_new\": \"1989-07-01T00:00:00\", \"n_sightings\": 25}, {\"decade\": \"1980s\", \"date_new\": \"1989-08-01T00:00:00\", \"n_sightings\": 18}, {\"decade\": \"1980s\", \"date_new\": \"1989-09-01T00:00:00\", \"n_sightings\": 13}, {\"decade\": \"1980s\", \"date_new\": \"1989-10-01T00:00:00\", \"n_sightings\": 29}, {\"decade\": \"1980s\", \"date_new\": \"1989-11-01T00:00:00\", \"n_sightings\": 14}, {\"decade\": \"1980s\", \"date_new\": \"1989-12-01T00:00:00\", \"n_sightings\": 15}, {\"decade\": \"1990s\", \"date_new\": \"1990-01-01T00:00:00\", \"n_sightings\": 9}, {\"decade\": \"1990s\", \"date_new\": \"1990-02-01T00:00:00\", \"n_sightings\": 13}, {\"decade\": \"1990s\", \"date_new\": \"1990-03-01T00:00:00\", \"n_sightings\": 6}, {\"decade\": \"1990s\", \"date_new\": \"1990-04-01T00:00:00\", \"n_sightings\": 5}, {\"decade\": \"1990s\", \"date_new\": \"1990-05-01T00:00:00\", \"n_sightings\": 10}, {\"decade\": \"1990s\", \"date_new\": \"1990-06-01T00:00:00\", \"n_sightings\": 33}, {\"decade\": \"1990s\", \"date_new\": \"1990-07-01T00:00:00\", \"n_sightings\": 32}, {\"decade\": \"1990s\", \"date_new\": \"1990-08-01T00:00:00\", \"n_sightings\": 21}, {\"decade\": \"1990s\", \"date_new\": \"1990-09-01T00:00:00\", \"n_sightings\": 16}, {\"decade\": \"1990s\", \"date_new\": \"1990-10-01T00:00:00\", \"n_sightings\": 20}, {\"decade\": \"1990s\", \"date_new\": \"1990-11-01T00:00:00\", \"n_sightings\": 14}, {\"decade\": \"1990s\", \"date_new\": \"1990-12-01T00:00:00\", \"n_sightings\": 7}, {\"decade\": \"1990s\", \"date_new\": \"1991-01-01T00:00:00\", \"n_sightings\": 4}, {\"decade\": \"1990s\", \"date_new\": \"1991-02-01T00:00:00\", \"n_sightings\": 4}, {\"decade\": \"1990s\", \"date_new\": \"1991-03-01T00:00:00\", \"n_sightings\": 9}, {\"decade\": \"1990s\", \"date_new\": \"1991-04-01T00:00:00\", \"n_sightings\": 10}, {\"decade\": \"1990s\", \"date_new\": \"1991-05-01T00:00:00\", \"n_sightings\": 17}, {\"decade\": \"1990s\", \"date_new\": \"1991-06-01T00:00:00\", \"n_sightings\": 31}, {\"decade\": \"1990s\", \"date_new\": \"1991-07-01T00:00:00\", \"n_sightings\": 27}, {\"decade\": \"1990s\", \"date_new\": \"1991-08-01T00:00:00\", \"n_sightings\": 21}, {\"decade\": \"1990s\", \"date_new\": \"1991-09-01T00:00:00\", \"n_sightings\": 16}, {\"decade\": \"1990s\", \"date_new\": \"1991-10-01T00:00:00\", \"n_sightings\": 13}, {\"decade\": \"1990s\", \"date_new\": \"1991-11-01T00:00:00\", \"n_sightings\": 13}, {\"decade\": \"1990s\", \"date_new\": \"1991-12-01T00:00:00\", \"n_sightings\": 7}, {\"decade\": \"1990s\", \"date_new\": \"1992-01-01T00:00:00\", \"n_sightings\": 3}, {\"decade\": \"1990s\", \"date_new\": \"1992-02-01T00:00:00\", \"n_sightings\": 6}, {\"decade\": \"1990s\", \"date_new\": \"1992-03-01T00:00:00\", \"n_sightings\": 3}, {\"decade\": \"1990s\", \"date_new\": \"1992-04-01T00:00:00\", \"n_sightings\": 17}, {\"decade\": \"1990s\", \"date_new\": \"1992-05-01T00:00:00\", \"n_sightings\": 14}, {\"decade\": \"1990s\", \"date_new\": \"1992-06-01T00:00:00\", \"n_sightings\": 39}, {\"decade\": \"1990s\", \"date_new\": \"1992-07-01T00:00:00\", \"n_sightings\": 25}, {\"decade\": \"1990s\", \"date_new\": \"1992-08-01T00:00:00\", \"n_sightings\": 24}, {\"decade\": \"1990s\", \"date_new\": \"1992-09-01T00:00:00\", \"n_sightings\": 12}, {\"decade\": \"1990s\", \"date_new\": \"1992-10-01T00:00:00\", \"n_sightings\": 22}, {\"decade\": \"1990s\", \"date_new\": \"1992-11-01T00:00:00\", \"n_sightings\": 8}, {\"decade\": \"1990s\", \"date_new\": \"1992-12-01T00:00:00\", \"n_sightings\": 7}, {\"decade\": \"1990s\", \"date_new\": \"1993-01-01T00:00:00\", \"n_sightings\": 8}, {\"decade\": \"1990s\", \"date_new\": \"1993-02-01T00:00:00\", \"n_sightings\": 9}, {\"decade\": \"1990s\", \"date_new\": \"1993-03-01T00:00:00\", \"n_sightings\": 8}, {\"decade\": \"1990s\", \"date_new\": \"1993-04-01T00:00:00\", \"n_sightings\": 10}, {\"decade\": \"1990s\", \"date_new\": \"1993-05-01T00:00:00\", \"n_sightings\": 20}, {\"decade\": \"1990s\", \"date_new\": \"1993-06-01T00:00:00\", \"n_sightings\": 52}, {\"decade\": \"1990s\", \"date_new\": \"1993-07-01T00:00:00\", \"n_sightings\": 28}, {\"decade\": \"1990s\", \"date_new\": \"1993-08-01T00:00:00\", \"n_sightings\": 32}, {\"decade\": \"1990s\", \"date_new\": \"1993-09-01T00:00:00\", \"n_sightings\": 16}, {\"decade\": \"1990s\", \"date_new\": \"1993-10-01T00:00:00\", \"n_sightings\": 15}, {\"decade\": \"1990s\", \"date_new\": \"1993-11-01T00:00:00\", \"n_sightings\": 12}, {\"decade\": \"1990s\", \"date_new\": \"1993-12-01T00:00:00\", \"n_sightings\": 13}, {\"decade\": \"1990s\", \"date_new\": \"1994-01-01T00:00:00\", \"n_sightings\": 12}, {\"decade\": \"1990s\", \"date_new\": \"1994-02-01T00:00:00\", \"n_sightings\": 3}, {\"decade\": \"1990s\", \"date_new\": \"1994-03-01T00:00:00\", \"n_sightings\": 15}, {\"decade\": \"1990s\", \"date_new\": \"1994-04-01T00:00:00\", \"n_sightings\": 20}, {\"decade\": \"1990s\", \"date_new\": \"1994-05-01T00:00:00\", \"n_sightings\": 20}, {\"decade\": \"1990s\", \"date_new\": \"1994-06-01T00:00:00\", \"n_sightings\": 51}, {\"decade\": \"1990s\", \"date_new\": \"1994-07-01T00:00:00\", \"n_sightings\": 36}, {\"decade\": \"1990s\", \"date_new\": \"1994-08-01T00:00:00\", \"n_sightings\": 39}, {\"decade\": \"1990s\", \"date_new\": \"1994-09-01T00:00:00\", \"n_sightings\": 23}, {\"decade\": \"1990s\", \"date_new\": \"1994-10-01T00:00:00\", \"n_sightings\": 44}, {\"decade\": \"1990s\", \"date_new\": \"1994-11-01T00:00:00\", \"n_sightings\": 23}, {\"decade\": \"1990s\", \"date_new\": \"1994-12-01T00:00:00\", \"n_sightings\": 26}, {\"decade\": \"1990s\", \"date_new\": \"1995-01-01T00:00:00\", \"n_sightings\": 62}, {\"decade\": \"1990s\", \"date_new\": \"1995-02-01T00:00:00\", \"n_sightings\": 51}, {\"decade\": \"1990s\", \"date_new\": \"1995-03-01T00:00:00\", \"n_sightings\": 70}, {\"decade\": \"1990s\", \"date_new\": \"1995-04-01T00:00:00\", \"n_sightings\": 51}, {\"decade\": \"1990s\", \"date_new\": \"1995-05-01T00:00:00\", \"n_sightings\": 67}, {\"decade\": \"1990s\", \"date_new\": \"1995-06-01T00:00:00\", \"n_sightings\": 108}, {\"decade\": \"1990s\", \"date_new\": \"1995-07-01T00:00:00\", \"n_sightings\": 93}, {\"decade\": \"1990s\", \"date_new\": \"1995-08-01T00:00:00\", \"n_sightings\": 119}, {\"decade\": \"1990s\", \"date_new\": \"1995-09-01T00:00:00\", \"n_sightings\": 76}, {\"decade\": \"1990s\", \"date_new\": \"1995-10-01T00:00:00\", \"n_sightings\": 71}, {\"decade\": \"1990s\", \"date_new\": \"1995-11-01T00:00:00\", \"n_sightings\": 81}, {\"decade\": \"1990s\", \"date_new\": \"1995-12-01T00:00:00\", \"n_sightings\": 37}, {\"decade\": \"1990s\", \"date_new\": \"1996-01-01T00:00:00\", \"n_sightings\": 34}, {\"decade\": \"1990s\", \"date_new\": \"1996-02-01T00:00:00\", \"n_sightings\": 43}, {\"decade\": \"1990s\", \"date_new\": \"1996-03-01T00:00:00\", \"n_sightings\": 45}, {\"decade\": \"1990s\", \"date_new\": \"1996-04-01T00:00:00\", \"n_sightings\": 67}, {\"decade\": \"1990s\", \"date_new\": \"1996-05-01T00:00:00\", \"n_sightings\": 57}, {\"decade\": \"1990s\", \"date_new\": \"1996-06-01T00:00:00\", \"n_sightings\": 85}, {\"decade\": \"1990s\", \"date_new\": \"1996-07-01T00:00:00\", \"n_sightings\": 50}, {\"decade\": \"1990s\", \"date_new\": \"1996-08-01T00:00:00\", \"n_sightings\": 53}, {\"decade\": \"1990s\", \"date_new\": \"1996-09-01T00:00:00\", \"n_sightings\": 35}, {\"decade\": \"1990s\", \"date_new\": \"1996-10-01T00:00:00\", \"n_sightings\": 44}, {\"decade\": \"1990s\", \"date_new\": \"1996-11-01T00:00:00\", \"n_sightings\": 63}, {\"decade\": \"1990s\", \"date_new\": \"1996-12-01T00:00:00\", \"n_sightings\": 59}, {\"decade\": \"1990s\", \"date_new\": \"1997-01-01T00:00:00\", \"n_sightings\": 33}, {\"decade\": \"1990s\", \"date_new\": \"1997-02-01T00:00:00\", \"n_sightings\": 34}, {\"decade\": \"1990s\", \"date_new\": \"1997-03-01T00:00:00\", \"n_sightings\": 137}, {\"decade\": \"1990s\", \"date_new\": \"1997-04-01T00:00:00\", \"n_sightings\": 68}, {\"decade\": \"1990s\", \"date_new\": \"1997-05-01T00:00:00\", \"n_sightings\": 78}, {\"decade\": \"1990s\", \"date_new\": \"1997-06-01T00:00:00\", \"n_sightings\": 124}, {\"decade\": \"1990s\", \"date_new\": \"1997-07-01T00:00:00\", \"n_sightings\": 154}, {\"decade\": \"1990s\", \"date_new\": \"1997-08-01T00:00:00\", \"n_sightings\": 82}, {\"decade\": \"1990s\", \"date_new\": \"1997-09-01T00:00:00\", \"n_sightings\": 39}, {\"decade\": \"1990s\", \"date_new\": \"1997-10-01T00:00:00\", \"n_sightings\": 84}, {\"decade\": \"1990s\", \"date_new\": \"1997-11-01T00:00:00\", \"n_sightings\": 95}, {\"decade\": \"1990s\", \"date_new\": \"1997-12-01T00:00:00\", \"n_sightings\": 57}, {\"decade\": \"1990s\", \"date_new\": \"1998-01-01T00:00:00\", \"n_sightings\": 58}, {\"decade\": \"1990s\", \"date_new\": \"1998-02-01T00:00:00\", \"n_sightings\": 59}, {\"decade\": \"1990s\", \"date_new\": \"1998-03-01T00:00:00\", \"n_sightings\": 105}, {\"decade\": \"1990s\", \"date_new\": \"1998-04-01T00:00:00\", \"n_sightings\": 91}, {\"decade\": \"1990s\", \"date_new\": \"1998-05-01T00:00:00\", \"n_sightings\": 78}, {\"decade\": \"1990s\", \"date_new\": \"1998-06-01T00:00:00\", \"n_sightings\": 134}, {\"decade\": \"1990s\", \"date_new\": \"1998-07-01T00:00:00\", \"n_sightings\": 115}, {\"decade\": \"1990s\", \"date_new\": \"1998-08-01T00:00:00\", \"n_sightings\": 116}, {\"decade\": \"1990s\", \"date_new\": \"1998-09-01T00:00:00\", \"n_sightings\": 169}, {\"decade\": \"1990s\", \"date_new\": \"1998-10-01T00:00:00\", \"n_sightings\": 165}, {\"decade\": \"1990s\", \"date_new\": \"1998-11-01T00:00:00\", \"n_sightings\": 158}, {\"decade\": \"1990s\", \"date_new\": \"1998-12-01T00:00:00\", \"n_sightings\": 130}, {\"decade\": \"1990s\", \"date_new\": \"1999-01-01T00:00:00\", \"n_sightings\": 99}, {\"decade\": \"1990s\", \"date_new\": \"1999-02-01T00:00:00\", \"n_sightings\": 125}, {\"decade\": \"1990s\", \"date_new\": \"1999-03-01T00:00:00\", \"n_sightings\": 121}, {\"decade\": \"1990s\", \"date_new\": \"1999-04-01T00:00:00\", \"n_sightings\": 110}, {\"decade\": \"1990s\", \"date_new\": \"1999-05-01T00:00:00\", \"n_sightings\": 131}, {\"decade\": \"1990s\", \"date_new\": \"1999-06-01T00:00:00\", \"n_sightings\": 186}, {\"decade\": \"1990s\", \"date_new\": \"1999-07-01T00:00:00\", \"n_sightings\": 210}, {\"decade\": \"1990s\", \"date_new\": \"1999-08-01T00:00:00\", \"n_sightings\": 219}, {\"decade\": \"1990s\", \"date_new\": \"1999-09-01T00:00:00\", \"n_sightings\": 287}, {\"decade\": \"1990s\", \"date_new\": \"1999-10-01T00:00:00\", \"n_sightings\": 247}, {\"decade\": \"1990s\", \"date_new\": \"1999-11-01T00:00:00\", \"n_sightings\": 339}, {\"decade\": \"1990s\", \"date_new\": \"1999-12-01T00:00:00\", \"n_sightings\": 144}, {\"decade\": \"2000s\", \"date_new\": \"2000-01-01T00:00:00\", \"n_sightings\": 163}, {\"decade\": \"2000s\", \"date_new\": \"2000-02-01T00:00:00\", \"n_sightings\": 149}, {\"decade\": \"2000s\", \"date_new\": \"2000-03-01T00:00:00\", \"n_sightings\": 168}, {\"decade\": \"2000s\", \"date_new\": \"2000-04-01T00:00:00\", \"n_sightings\": 139}, {\"decade\": \"2000s\", \"date_new\": \"2000-05-01T00:00:00\", \"n_sightings\": 125}, {\"decade\": \"2000s\", \"date_new\": \"2000-06-01T00:00:00\", \"n_sightings\": 182}, {\"decade\": \"2000s\", \"date_new\": \"2000-07-01T00:00:00\", \"n_sightings\": 258}, {\"decade\": \"2000s\", \"date_new\": \"2000-08-01T00:00:00\", \"n_sightings\": 200}, {\"decade\": \"2000s\", \"date_new\": \"2000-09-01T00:00:00\", \"n_sightings\": 212}, {\"decade\": \"2000s\", \"date_new\": \"2000-10-01T00:00:00\", \"n_sightings\": 221}, {\"decade\": \"2000s\", \"date_new\": \"2000-11-01T00:00:00\", \"n_sightings\": 172}, {\"decade\": \"2000s\", \"date_new\": \"2000-12-01T00:00:00\", \"n_sightings\": 152}, {\"decade\": \"2000s\", \"date_new\": \"2001-01-01T00:00:00\", \"n_sightings\": 179}, {\"decade\": \"2000s\", \"date_new\": \"2001-02-01T00:00:00\", \"n_sightings\": 161}, {\"decade\": \"2000s\", \"date_new\": \"2001-03-01T00:00:00\", \"n_sightings\": 211}, {\"decade\": \"2000s\", \"date_new\": \"2001-04-01T00:00:00\", \"n_sightings\": 155}, {\"decade\": \"2000s\", \"date_new\": \"2001-05-01T00:00:00\", \"n_sightings\": 163}, {\"decade\": \"2000s\", \"date_new\": \"2001-06-01T00:00:00\", \"n_sightings\": 209}, {\"decade\": \"2000s\", \"date_new\": \"2001-07-01T00:00:00\", \"n_sightings\": 264}, {\"decade\": \"2000s\", \"date_new\": \"2001-08-01T00:00:00\", \"n_sightings\": 274}, {\"decade\": \"2000s\", \"date_new\": \"2001-09-01T00:00:00\", \"n_sightings\": 249}, {\"decade\": \"2000s\", \"date_new\": \"2001-10-01T00:00:00\", \"n_sightings\": 183}, {\"decade\": \"2000s\", \"date_new\": \"2001-11-01T00:00:00\", \"n_sightings\": 199}, {\"decade\": \"2000s\", \"date_new\": \"2001-12-01T00:00:00\", \"n_sightings\": 150}, {\"decade\": \"2000s\", \"date_new\": \"2002-01-01T00:00:00\", \"n_sightings\": 159}, {\"decade\": \"2000s\", \"date_new\": \"2002-02-01T00:00:00\", \"n_sightings\": 176}, {\"decade\": \"2000s\", \"date_new\": \"2002-03-01T00:00:00\", \"n_sightings\": 136}, {\"decade\": \"2000s\", \"date_new\": \"2002-04-01T00:00:00\", \"n_sightings\": 131}, {\"decade\": \"2000s\", \"date_new\": \"2002-05-01T00:00:00\", \"n_sightings\": 168}, {\"decade\": \"2000s\", \"date_new\": \"2002-06-01T00:00:00\", \"n_sightings\": 225}, {\"decade\": \"2000s\", \"date_new\": \"2002-07-01T00:00:00\", \"n_sightings\": 261}, {\"decade\": \"2000s\", \"date_new\": \"2002-08-01T00:00:00\", \"n_sightings\": 298}, {\"decade\": \"2000s\", \"date_new\": \"2002-09-01T00:00:00\", \"n_sightings\": 249}, {\"decade\": \"2000s\", \"date_new\": \"2002-10-01T00:00:00\", \"n_sightings\": 219}, {\"decade\": \"2000s\", \"date_new\": \"2002-11-01T00:00:00\", \"n_sightings\": 214}, {\"decade\": \"2000s\", \"date_new\": \"2002-12-01T00:00:00\", \"n_sightings\": 161}, {\"decade\": \"2000s\", \"date_new\": \"2003-01-01T00:00:00\", \"n_sightings\": 208}, {\"decade\": \"2000s\", \"date_new\": \"2003-02-01T00:00:00\", \"n_sightings\": 164}, {\"decade\": \"2000s\", \"date_new\": \"2003-03-01T00:00:00\", \"n_sightings\": 107}, {\"decade\": \"2000s\", \"date_new\": \"2003-04-01T00:00:00\", \"n_sightings\": 143}, {\"decade\": \"2000s\", \"date_new\": \"2003-05-01T00:00:00\", \"n_sightings\": 146}, {\"decade\": \"2000s\", \"date_new\": \"2003-06-01T00:00:00\", \"n_sightings\": 204}, {\"decade\": \"2000s\", \"date_new\": \"2003-07-01T00:00:00\", \"n_sightings\": 278}, {\"decade\": \"2000s\", \"date_new\": \"2003-08-01T00:00:00\", \"n_sightings\": 344}, {\"decade\": \"2000s\", \"date_new\": \"2003-09-01T00:00:00\", \"n_sightings\": 363}, {\"decade\": \"2000s\", \"date_new\": \"2003-10-01T00:00:00\", \"n_sightings\": 342}, {\"decade\": \"2000s\", \"date_new\": \"2003-11-01T00:00:00\", \"n_sightings\": 350}, {\"decade\": \"2000s\", \"date_new\": \"2003-12-01T00:00:00\", \"n_sightings\": 263}, {\"decade\": \"2000s\", \"date_new\": \"2004-01-01T00:00:00\", \"n_sightings\": 189}, {\"decade\": \"2000s\", \"date_new\": \"2004-02-01T00:00:00\", \"n_sightings\": 198}, {\"decade\": \"2000s\", \"date_new\": \"2004-03-01T00:00:00\", \"n_sightings\": 268}, {\"decade\": \"2000s\", \"date_new\": \"2004-04-01T00:00:00\", \"n_sightings\": 244}, {\"decade\": \"2000s\", \"date_new\": \"2004-05-01T00:00:00\", \"n_sightings\": 267}, {\"decade\": \"2000s\", \"date_new\": \"2004-06-01T00:00:00\", \"n_sightings\": 277}, {\"decade\": \"2000s\", \"date_new\": \"2004-07-01T00:00:00\", \"n_sightings\": 291}, {\"decade\": \"2000s\", \"date_new\": \"2004-08-01T00:00:00\", \"n_sightings\": 371}, {\"decade\": \"2000s\", \"date_new\": \"2004-09-01T00:00:00\", \"n_sightings\": 286}, {\"decade\": \"2000s\", \"date_new\": \"2004-10-01T00:00:00\", \"n_sightings\": 342}, {\"decade\": \"2000s\", \"date_new\": \"2004-11-01T00:00:00\", \"n_sightings\": 217}, {\"decade\": \"2000s\", \"date_new\": \"2004-12-01T00:00:00\", \"n_sightings\": 218}, {\"decade\": \"2000s\", \"date_new\": \"2005-01-01T00:00:00\", \"n_sightings\": 185}, {\"decade\": \"2000s\", \"date_new\": \"2005-02-01T00:00:00\", \"n_sightings\": 205}, {\"decade\": \"2000s\", \"date_new\": \"2005-03-01T00:00:00\", \"n_sightings\": 241}, {\"decade\": \"2000s\", \"date_new\": \"2005-04-01T00:00:00\", \"n_sightings\": 226}, {\"decade\": \"2000s\", \"date_new\": \"2005-05-01T00:00:00\", \"n_sightings\": 199}, {\"decade\": \"2000s\", \"date_new\": \"2005-06-01T00:00:00\", \"n_sightings\": 280}, {\"decade\": \"2000s\", \"date_new\": \"2005-07-01T00:00:00\", \"n_sightings\": 315}, {\"decade\": \"2000s\", \"date_new\": \"2005-08-01T00:00:00\", \"n_sightings\": 240}, {\"decade\": \"2000s\", \"date_new\": \"2005-09-01T00:00:00\", \"n_sightings\": 392}, {\"decade\": \"2000s\", \"date_new\": \"2005-10-01T00:00:00\", \"n_sightings\": 377}, {\"decade\": \"2000s\", \"date_new\": \"2005-11-01T00:00:00\", \"n_sightings\": 328}, {\"decade\": \"2000s\", \"date_new\": \"2005-12-01T00:00:00\", \"n_sightings\": 182}, {\"decade\": \"2000s\", \"date_new\": \"2006-01-01T00:00:00\", \"n_sightings\": 151}, {\"decade\": \"2000s\", \"date_new\": \"2006-02-01T00:00:00\", \"n_sightings\": 166}, {\"decade\": \"2000s\", \"date_new\": \"2006-03-01T00:00:00\", \"n_sightings\": 223}, {\"decade\": \"2000s\", \"date_new\": \"2006-04-01T00:00:00\", \"n_sightings\": 226}, {\"decade\": \"2000s\", \"date_new\": \"2006-05-01T00:00:00\", \"n_sightings\": 200}, {\"decade\": \"2000s\", \"date_new\": \"2006-06-01T00:00:00\", \"n_sightings\": 219}, {\"decade\": \"2000s\", \"date_new\": \"2006-07-01T00:00:00\", \"n_sightings\": 262}, {\"decade\": \"2000s\", \"date_new\": \"2006-08-01T00:00:00\", \"n_sightings\": 291}, {\"decade\": \"2000s\", \"date_new\": \"2006-09-01T00:00:00\", \"n_sightings\": 215}, {\"decade\": \"2000s\", \"date_new\": \"2006-10-01T00:00:00\", \"n_sightings\": 305}, {\"decade\": \"2000s\", \"date_new\": \"2006-11-01T00:00:00\", \"n_sightings\": 310}, {\"decade\": \"2000s\", \"date_new\": \"2006-12-01T00:00:00\", \"n_sightings\": 272}, {\"decade\": \"2000s\", \"date_new\": \"2007-01-01T00:00:00\", \"n_sightings\": 325}, {\"decade\": \"2000s\", \"date_new\": \"2007-02-01T00:00:00\", \"n_sightings\": 195}, {\"decade\": \"2000s\", \"date_new\": \"2007-03-01T00:00:00\", \"n_sightings\": 259}, {\"decade\": \"2000s\", \"date_new\": \"2007-04-01T00:00:00\", \"n_sightings\": 215}, {\"decade\": \"2000s\", \"date_new\": \"2007-05-01T00:00:00\", \"n_sightings\": 213}, {\"decade\": \"2000s\", \"date_new\": \"2007-06-01T00:00:00\", \"n_sightings\": 303}, {\"decade\": \"2000s\", \"date_new\": \"2007-07-01T00:00:00\", \"n_sightings\": 352}, {\"decade\": \"2000s\", \"date_new\": \"2007-08-01T00:00:00\", \"n_sightings\": 335}, {\"decade\": \"2000s\", \"date_new\": \"2007-09-01T00:00:00\", \"n_sightings\": 330}, {\"decade\": \"2000s\", \"date_new\": \"2007-10-01T00:00:00\", \"n_sightings\": 314}, {\"decade\": \"2000s\", \"date_new\": \"2007-11-01T00:00:00\", \"n_sightings\": 293}, {\"decade\": \"2000s\", \"date_new\": \"2007-12-01T00:00:00\", \"n_sightings\": 261}, {\"decade\": \"2000s\", \"date_new\": \"2008-01-01T00:00:00\", \"n_sightings\": 351}, {\"decade\": \"2000s\", \"date_new\": \"2008-02-01T00:00:00\", \"n_sightings\": 280}, {\"decade\": \"2000s\", \"date_new\": \"2008-03-01T00:00:00\", \"n_sightings\": 264}, {\"decade\": \"2000s\", \"date_new\": \"2008-04-01T00:00:00\", \"n_sightings\": 350}, {\"decade\": \"2000s\", \"date_new\": \"2008-05-01T00:00:00\", \"n_sightings\": 242}, {\"decade\": \"2000s\", \"date_new\": \"2008-06-01T00:00:00\", \"n_sightings\": 373}, {\"decade\": \"2000s\", \"date_new\": \"2008-07-01T00:00:00\", \"n_sightings\": 412}, {\"decade\": \"2000s\", \"date_new\": \"2008-08-01T00:00:00\", \"n_sightings\": 380}, {\"decade\": \"2000s\", \"date_new\": \"2008-09-01T00:00:00\", \"n_sightings\": 285}, {\"decade\": \"2000s\", \"date_new\": \"2008-10-01T00:00:00\", \"n_sightings\": 413}, {\"decade\": \"2000s\", \"date_new\": \"2008-11-01T00:00:00\", \"n_sightings\": 352}, {\"decade\": \"2000s\", \"date_new\": \"2008-12-01T00:00:00\", \"n_sightings\": 247}, {\"decade\": \"2000s\", \"date_new\": \"2009-01-01T00:00:00\", \"n_sightings\": 363}, {\"decade\": \"2000s\", \"date_new\": \"2009-02-01T00:00:00\", \"n_sightings\": 288}, {\"decade\": \"2000s\", \"date_new\": \"2009-03-01T00:00:00\", \"n_sightings\": 251}, {\"decade\": \"2000s\", \"date_new\": \"2009-04-01T00:00:00\", \"n_sightings\": 232}, {\"decade\": \"2000s\", \"date_new\": \"2009-05-01T00:00:00\", \"n_sightings\": 253}, {\"decade\": \"2000s\", \"date_new\": \"2009-06-01T00:00:00\", \"n_sightings\": 286}, {\"decade\": \"2000s\", \"date_new\": \"2009-07-01T00:00:00\", \"n_sightings\": 443}, {\"decade\": \"2000s\", \"date_new\": \"2009-08-01T00:00:00\", \"n_sightings\": 351}, {\"decade\": \"2000s\", \"date_new\": \"2009-09-01T00:00:00\", \"n_sightings\": 468}, {\"decade\": \"2000s\", \"date_new\": \"2009-10-01T00:00:00\", \"n_sightings\": 240}, {\"decade\": \"2000s\", \"date_new\": \"2009-11-01T00:00:00\", \"n_sightings\": 232}, {\"decade\": \"2000s\", \"date_new\": \"2009-12-01T00:00:00\", \"n_sightings\": 201}, {\"decade\": \"2010s\", \"date_new\": \"2010-01-01T00:00:00\", \"n_sightings\": 192}, {\"decade\": \"2010s\", \"date_new\": \"2010-02-01T00:00:00\", \"n_sightings\": 126}, {\"decade\": \"2010s\", \"date_new\": \"2010-03-01T00:00:00\", \"n_sightings\": 195}, {\"decade\": \"2010s\", \"date_new\": \"2010-04-01T00:00:00\", \"n_sightings\": 210}, {\"decade\": \"2010s\", \"date_new\": \"2010-05-01T00:00:00\", \"n_sightings\": 246}, {\"decade\": \"2010s\", \"date_new\": \"2010-06-01T00:00:00\", \"n_sightings\": 261}, {\"decade\": \"2010s\", \"date_new\": \"2010-07-01T00:00:00\", \"n_sightings\": 655}, {\"decade\": \"2010s\", \"date_new\": \"2010-08-01T00:00:00\", \"n_sightings\": 389}, {\"decade\": \"2010s\", \"date_new\": \"2010-09-01T00:00:00\", \"n_sightings\": 344}, {\"decade\": \"2010s\", \"date_new\": \"2010-10-01T00:00:00\", \"n_sightings\": 377}, {\"decade\": \"2010s\", \"date_new\": \"2010-11-01T00:00:00\", \"n_sightings\": 272}, {\"decade\": \"2010s\", \"date_new\": \"2010-12-01T00:00:00\", \"n_sightings\": 220}, {\"decade\": \"2010s\", \"date_new\": \"2011-01-01T00:00:00\", \"n_sightings\": 245}, {\"decade\": \"2010s\", \"date_new\": \"2011-02-01T00:00:00\", \"n_sightings\": 213}, {\"decade\": \"2010s\", \"date_new\": \"2011-03-01T00:00:00\", \"n_sightings\": 251}, {\"decade\": \"2010s\", \"date_new\": \"2011-04-01T00:00:00\", \"n_sightings\": 237}, {\"decade\": \"2010s\", \"date_new\": \"2011-05-01T00:00:00\", \"n_sightings\": 234}, {\"decade\": \"2010s\", \"date_new\": \"2011-06-01T00:00:00\", \"n_sightings\": 310}, {\"decade\": \"2010s\", \"date_new\": \"2011-07-01T00:00:00\", \"n_sightings\": 616}, {\"decade\": \"2010s\", \"date_new\": \"2011-08-01T00:00:00\", \"n_sightings\": 495}, {\"decade\": \"2010s\", \"date_new\": \"2011-09-01T00:00:00\", \"n_sightings\": 436}, {\"decade\": \"2010s\", \"date_new\": \"2011-10-01T00:00:00\", \"n_sightings\": 500}, {\"decade\": \"2010s\", \"date_new\": \"2011-11-01T00:00:00\", \"n_sightings\": 349}, {\"decade\": \"2010s\", \"date_new\": \"2011-12-01T00:00:00\", \"n_sightings\": 413}, {\"decade\": \"2010s\", \"date_new\": \"2012-01-01T00:00:00\", \"n_sightings\": 443}, {\"decade\": \"2010s\", \"date_new\": \"2012-02-01T00:00:00\", \"n_sightings\": 299}, {\"decade\": \"2010s\", \"date_new\": \"2012-03-01T00:00:00\", \"n_sightings\": 418}, {\"decade\": \"2010s\", \"date_new\": \"2012-04-01T00:00:00\", \"n_sightings\": 401}, {\"decade\": \"2010s\", \"date_new\": \"2012-05-01T00:00:00\", \"n_sightings\": 386}, {\"decade\": \"2010s\", \"date_new\": \"2012-06-01T00:00:00\", \"n_sightings\": 593}, {\"decade\": \"2010s\", \"date_new\": \"2012-07-01T00:00:00\", \"n_sightings\": 751}, {\"decade\": \"2010s\", \"date_new\": \"2012-08-01T00:00:00\", \"n_sightings\": 685}, {\"decade\": \"2010s\", \"date_new\": \"2012-09-01T00:00:00\", \"n_sightings\": 567}, {\"decade\": \"2010s\", \"date_new\": \"2012-10-01T00:00:00\", \"n_sightings\": 526}, {\"decade\": \"2010s\", \"date_new\": \"2012-11-01T00:00:00\", \"n_sightings\": 631}, {\"decade\": \"2010s\", \"date_new\": \"2012-12-01T00:00:00\", \"n_sightings\": 537}, {\"decade\": \"2010s\", \"date_new\": \"2013-01-01T00:00:00\", \"n_sightings\": 298}, {\"decade\": \"2010s\", \"date_new\": \"2013-02-01T00:00:00\", \"n_sightings\": 230}, {\"decade\": \"2010s\", \"date_new\": \"2013-03-01T00:00:00\", \"n_sightings\": 313}, {\"decade\": \"2010s\", \"date_new\": \"2013-04-01T00:00:00\", \"n_sightings\": 327}, {\"decade\": \"2010s\", \"date_new\": \"2013-05-01T00:00:00\", \"n_sightings\": 428}, {\"decade\": \"2010s\", \"date_new\": \"2013-06-01T00:00:00\", \"n_sightings\": 482}, {\"decade\": \"2010s\", \"date_new\": \"2013-07-01T00:00:00\", \"n_sightings\": 768}, {\"decade\": \"2010s\", \"date_new\": \"2013-08-01T00:00:00\", \"n_sightings\": 698}, {\"decade\": \"2010s\", \"date_new\": \"2013-09-01T00:00:00\", \"n_sightings\": 612}, {\"decade\": \"2010s\", \"date_new\": \"2013-10-01T00:00:00\", \"n_sightings\": 601}, {\"decade\": \"2010s\", \"date_new\": \"2013-11-01T00:00:00\", \"n_sightings\": 617}, {\"decade\": \"2010s\", \"date_new\": \"2013-12-01T00:00:00\", \"n_sightings\": 610}, {\"decade\": \"2010s\", \"date_new\": \"2014-01-01T00:00:00\", \"n_sightings\": 562}, {\"decade\": \"2010s\", \"date_new\": \"2014-02-01T00:00:00\", \"n_sightings\": 425}, {\"decade\": \"2010s\", \"date_new\": \"2014-03-01T00:00:00\", \"n_sightings\": 372}, {\"decade\": \"2010s\", \"date_new\": \"2014-04-01T00:00:00\", \"n_sightings\": 476}, {\"decade\": \"2010s\", \"date_new\": \"2014-05-01T00:00:00\", \"n_sightings\": 109}]}}, {\"mode\": \"vega-lite\"});\n",
       "</script>"
      ],
      "text/plain": [
       "alt.HConcatChart(...)"
      ]
     },
     "execution_count": 16,
     "metadata": {},
     "output_type": "execute_result"
    }
   ],
   "source": [
    "final_vis"
   ]
  },
  {
   "cell_type": "markdown",
   "id": "555de87f",
   "metadata": {},
   "source": [
    "##### Saving the visualization as a json specifications file."
   ]
  },
  {
   "cell_type": "code",
   "execution_count": 17,
   "id": "fdc12e40",
   "metadata": {
    "scrolled": true
   },
   "outputs": [],
   "source": [
    "final_vis.save('ufo_vis.json')"
   ]
  }
 ],
 "metadata": {
  "kernelspec": {
   "display_name": "Python 3 (ipykernel)",
   "language": "python",
   "name": "python3"
  },
  "language_info": {
   "codemirror_mode": {
    "name": "ipython",
    "version": 3
   },
   "file_extension": ".py",
   "mimetype": "text/x-python",
   "name": "python",
   "nbconvert_exporter": "python",
   "pygments_lexer": "ipython3",
   "version": "3.7.12"
  }
 },
 "nbformat": 4,
 "nbformat_minor": 5
}
